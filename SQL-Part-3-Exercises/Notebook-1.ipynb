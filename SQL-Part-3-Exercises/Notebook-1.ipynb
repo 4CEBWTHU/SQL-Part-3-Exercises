{
    "metadata": {
        "kernelspec": {
            "name": "SQL",
            "display_name": "SQL",
            "language": "sql"
        },
        "language_info": {
            "name": "sql",
            "version": ""
        },
        "extensions": {
            "azuredatastudio": {
                "version": 1,
                "views": []
            }
        }
    },
    "nbformat_minor": 2,
    "nbformat": 4,
    "cells": [
        {
            "cell_type": "markdown",
            "source": [
                "SQL Part 3 Exercises -- BooksDB"
            ],
            "metadata": {
                "azdata_cell_guid": "db9534a9-c8a7-4c09-8180-bcba0690bb02"
            },
            "attachments": {}
        },
        {
            "cell_type": "code",
            "source": [
                "SELECT TOP 2 *\n",
                "FROM BooksDB.dbo.to_read;\n",
                "-- user_id, book_id\n",
                "\n",
                "-- book table: can find titles and authors, languages\n",
                "\n",
                ""
            ],
            "metadata": {
                "azdata_cell_guid": "5b2df79c-85c2-48e4-bf05-6ccf3edf7e01"
            },
            "outputs": [
                {
                    "output_type": "display_data",
                    "data": {
                        "text/html": "(2 rows affected)"
                    },
                    "metadata": {}
                },
                {
                    "output_type": "display_data",
                    "data": {
                        "text/html": "Total execution time: 00:00:00.069"
                    },
                    "metadata": {}
                },
                {
                    "output_type": "execute_result",
                    "execution_count": 27,
                    "data": {
                        "application/vnd.dataresource+json": {
                            "schema": {
                                "fields": [
                                    {
                                        "name": "user_id"
                                    },
                                    {
                                        "name": "book_id"
                                    }
                                ]
                            },
                            "data": [
                                {
                                    "0": "1",
                                    "1": "112"
                                },
                                {
                                    "0": "1",
                                    "1": "235"
                                }
                            ]
                        },
                        "text/html": "<table><tr><th>user_id</th><th>book_id</th></tr><tr><td>1</td><td>112</td></tr><tr><td>1</td><td>235</td></tr></table>"
                    },
                    "metadata": {}
                }
            ],
            "execution_count": 27
        },
        {
            "cell_type": "code",
            "source": [
                "SELECT TOP 2 * \n",
                "FROM BooksDB.dbo.books;\n",
                "-- id, book_id, best_book_id, work_id, book_counts, isbn, isbn13, authors, original_publication_year, original_title, title, language_code, average_rating, ratings_count, work_ratings_count, work_text_reviews_count, ratings_1-5, small and large image urls\n",
                "\n",
                ""
            ],
            "metadata": {
                "azdata_cell_guid": "972b279a-5639-44a3-b514-729fb6301108"
            },
            "outputs": [
                {
                    "output_type": "display_data",
                    "data": {
                        "text/html": "(2 rows affected)"
                    },
                    "metadata": {}
                },
                {
                    "output_type": "display_data",
                    "data": {
                        "text/html": "Total execution time: 00:00:00.129"
                    },
                    "metadata": {}
                },
                {
                    "output_type": "execute_result",
                    "execution_count": 28,
                    "data": {
                        "application/vnd.dataresource+json": {
                            "schema": {
                                "fields": [
                                    {
                                        "name": "id"
                                    },
                                    {
                                        "name": "book_id"
                                    },
                                    {
                                        "name": "best_book_id"
                                    },
                                    {
                                        "name": "work_id"
                                    },
                                    {
                                        "name": "books_count"
                                    },
                                    {
                                        "name": "isbn"
                                    },
                                    {
                                        "name": "isbn13"
                                    },
                                    {
                                        "name": "authors"
                                    },
                                    {
                                        "name": "original_publication_year"
                                    },
                                    {
                                        "name": "original_title"
                                    },
                                    {
                                        "name": "title"
                                    },
                                    {
                                        "name": "language_code"
                                    },
                                    {
                                        "name": "average_rating"
                                    },
                                    {
                                        "name": "ratings_count"
                                    },
                                    {
                                        "name": "work_ratings_count"
                                    },
                                    {
                                        "name": "work_text_reviews_count"
                                    },
                                    {
                                        "name": "ratings_1"
                                    },
                                    {
                                        "name": "ratings_2"
                                    },
                                    {
                                        "name": "ratings_3"
                                    },
                                    {
                                        "name": "ratings_4"
                                    },
                                    {
                                        "name": "ratings_5"
                                    },
                                    {
                                        "name": "image_url"
                                    },
                                    {
                                        "name": "small_image_url"
                                    }
                                ]
                            },
                            "data": [
                                {
                                    "0": "1",
                                    "1": "2767052",
                                    "2": "2767052",
                                    "3": "2792775",
                                    "4": "272",
                                    "5": "439023483",
                                    "6": "9780439023480",
                                    "7": "Suzanne Collins",
                                    "8": "2008",
                                    "9": "The Hunger Games",
                                    "10": "The Hunger Games (The Hunger Games, #1)",
                                    "11": "eng",
                                    "12": "4.34",
                                    "13": "4780653",
                                    "14": "4942365",
                                    "15": "155254",
                                    "16": "66715",
                                    "17": "127936",
                                    "18": "560092",
                                    "19": "1481305",
                                    "20": "2706317",
                                    "21": "https://images.gr-assets.com/books/1447303603m/2767052.jpg",
                                    "22": "https://images.gr-assets.com/books/1447303603s/2767052.jpg"
                                },
                                {
                                    "0": "2",
                                    "1": "3",
                                    "2": "3",
                                    "3": "4640799",
                                    "4": "491",
                                    "5": "439554934",
                                    "6": "9780439554930",
                                    "7": "J.K. Rowling, Mary GrandPré",
                                    "8": "1997",
                                    "9": "Harry Potter and the Philosopher's Stone",
                                    "10": "Harry Potter and the Sorcerer's Stone (Harry Potter, #1)",
                                    "11": "eng",
                                    "12": "4.44",
                                    "13": "4602479",
                                    "14": "4800065",
                                    "15": "75867",
                                    "16": "75504",
                                    "17": "101676",
                                    "18": "455024",
                                    "19": "1156318",
                                    "20": "3011543",
                                    "21": "https://images.gr-assets.com/books/1474154022m/3.jpg",
                                    "22": "https://images.gr-assets.com/books/1474154022s/3.jpg"
                                }
                            ]
                        },
                        "text/html": "<table><tr><th>id</th><th>book_id</th><th>best_book_id</th><th>work_id</th><th>books_count</th><th>isbn</th><th>isbn13</th><th>authors</th><th>original_publication_year</th><th>original_title</th><th>title</th><th>language_code</th><th>average_rating</th><th>ratings_count</th><th>work_ratings_count</th><th>work_text_reviews_count</th><th>ratings_1</th><th>ratings_2</th><th>ratings_3</th><th>ratings_4</th><th>ratings_5</th><th>image_url</th><th>small_image_url</th></tr><tr><td>1</td><td>2767052</td><td>2767052</td><td>2792775</td><td>272</td><td>439023483</td><td>9780439023480</td><td>Suzanne Collins</td><td>2008</td><td>The Hunger Games</td><td>The Hunger Games (The Hunger Games, #1)</td><td>eng</td><td>4.34</td><td>4780653</td><td>4942365</td><td>155254</td><td>66715</td><td>127936</td><td>560092</td><td>1481305</td><td>2706317</td><td>https://images.gr-assets.com/books/1447303603m/2767052.jpg</td><td>https://images.gr-assets.com/books/1447303603s/2767052.jpg</td></tr><tr><td>2</td><td>3</td><td>3</td><td>4640799</td><td>491</td><td>439554934</td><td>9780439554930</td><td>J.K. Rowling, Mary GrandPré</td><td>1997</td><td>Harry Potter and the Philosopher's Stone</td><td>Harry Potter and the Sorcerer's Stone (Harry Potter, #1)</td><td>eng</td><td>4.44</td><td>4602479</td><td>4800065</td><td>75867</td><td>75504</td><td>101676</td><td>455024</td><td>1156318</td><td>3011543</td><td>https://images.gr-assets.com/books/1474154022m/3.jpg</td><td>https://images.gr-assets.com/books/1474154022s/3.jpg</td></tr></table>"
                    },
                    "metadata": {}
                }
            ],
            "execution_count": 28
        },
        {
            "cell_type": "code",
            "source": [
                "SELECT TOP 2 *\n",
                "FROM BooksDB.dbo.ratings;\n",
                "-- book_id, user_id, rating\n",
                "\n",
                "-- books table can find titles\n",
                ""
            ],
            "metadata": {
                "azdata_cell_guid": "a87ab014-ca89-46a3-8301-7334db375db1"
            },
            "outputs": [
                {
                    "output_type": "display_data",
                    "data": {
                        "text/html": "(2 rows affected)"
                    },
                    "metadata": {}
                },
                {
                    "output_type": "display_data",
                    "data": {
                        "text/html": "Total execution time: 00:00:00.056"
                    },
                    "metadata": {}
                },
                {
                    "output_type": "execute_result",
                    "execution_count": 29,
                    "data": {
                        "application/vnd.dataresource+json": {
                            "schema": {
                                "fields": [
                                    {
                                        "name": "book_id"
                                    },
                                    {
                                        "name": "user_id"
                                    },
                                    {
                                        "name": "rating"
                                    }
                                ]
                            },
                            "data": [
                                {
                                    "0": "59",
                                    "1": "35146",
                                    "2": "4"
                                },
                                {
                                    "0": "59",
                                    "1": "36099",
                                    "2": "5"
                                }
                            ]
                        },
                        "text/html": "<table><tr><th>book_id</th><th>user_id</th><th>rating</th></tr><tr><td>59</td><td>35146</td><td>4</td></tr><tr><td>59</td><td>36099</td><td>5</td></tr></table>"
                    },
                    "metadata": {}
                }
            ],
            "execution_count": 29
        },
        {
            "cell_type": "code",
            "source": [
                "SELECT TOP 2 * \n",
                "FROM BooksDB.dbo.book_tags;\n",
                "-- goodreads_book_id, tag_id, count\n",
                "\n",
                "-- What Book has the most popular tag id?\n",
                "SELECT TOP 1 b.title, bt.count, bt.tag_id\n",
                "FROM BooksDB.dbo.books AS b\n",
                "INNER JOIN BooksDB.dbo.book_tags AS bt\n",
                "ON bt.goodreads_book_id = b.best_book_id\n",
                "ORDER BY bt.count DESC;\n",
                "\n",
                "-- How many tags for the Alchemist?\n",
                "-- ANS: 100\n",
                "\n",
                "SELECT b.title, bt.[count], bt.tag_id\n",
                "FROM BooksDB.dbo.books AS b\n",
                "INNER JOIN BooksDB.dbo.book_tags AS bt\n",
                "ON bt.goodreads_book_id = b.best_book_id\n",
                "WHERE b.title = 'The Alchemist'\n",
                "ORDER BY bt.[count] DESC;"
            ],
            "metadata": {
                "azdata_cell_guid": "de3ac253-6b47-4740-8c6e-5f9d1b0ce36b"
            },
            "outputs": [
                {
                    "output_type": "display_data",
                    "data": {
                        "text/html": "(2 rows affected)"
                    },
                    "metadata": {}
                },
                {
                    "output_type": "display_data",
                    "data": {
                        "text/html": "(1 row affected)"
                    },
                    "metadata": {}
                },
                {
                    "output_type": "display_data",
                    "data": {
                        "text/html": "(100 rows affected)"
                    },
                    "metadata": {}
                },
                {
                    "output_type": "display_data",
                    "data": {
                        "text/html": "Total execution time: 00:00:01.161"
                    },
                    "metadata": {}
                },
                {
                    "output_type": "execute_result",
                    "metadata": {},
                    "execution_count": 27,
                    "data": {
                        "application/vnd.dataresource+json": {
                            "schema": {
                                "fields": [
                                    {
                                        "name": "goodreads_book_id"
                                    },
                                    {
                                        "name": "tag_id"
                                    },
                                    {
                                        "name": "count"
                                    }
                                ]
                            },
                            "data": [
                                {
                                    "0": "1",
                                    "1": "30574",
                                    "2": "167697"
                                },
                                {
                                    "0": "1",
                                    "1": "11305",
                                    "2": "37174"
                                }
                            ]
                        },
                        "text/html": [
                            "<table>",
                            "<tr><th>goodreads_book_id</th><th>tag_id</th><th>count</th></tr>",
                            "<tr><td>1</td><td>30574</td><td>167697</td></tr>",
                            "<tr><td>1</td><td>11305</td><td>37174</td></tr>",
                            "</table>"
                        ]
                    }
                },
                {
                    "output_type": "execute_result",
                    "metadata": {},
                    "execution_count": 27,
                    "data": {
                        "application/vnd.dataresource+json": {
                            "schema": {
                                "fields": [
                                    {
                                        "name": "title"
                                    },
                                    {
                                        "name": "count"
                                    },
                                    {
                                        "name": "tag_id"
                                    }
                                ]
                            },
                            "data": [
                                {
                                    "0": "The Alchemist",
                                    "1": "596234",
                                    "2": "30574"
                                }
                            ]
                        },
                        "text/html": [
                            "<table>",
                            "<tr><th>title</th><th>count</th><th>tag_id</th></tr>",
                            "<tr><td>The Alchemist</td><td>596234</td><td>30574</td></tr>",
                            "</table>"
                        ]
                    }
                },
                {
                    "output_type": "execute_result",
                    "metadata": {},
                    "execution_count": 27,
                    "data": {
                        "application/vnd.dataresource+json": {
                            "schema": {
                                "fields": [
                                    {
                                        "name": "title"
                                    },
                                    {
                                        "name": "count"
                                    },
                                    {
                                        "name": "tag_id"
                                    }
                                ]
                            },
                            "data": [
                                {
                                    "0": "The Alchemist",
                                    "1": "596234",
                                    "2": "30574"
                                },
                                {
                                    "0": "The Alchemist",
                                    "1": "26269",
                                    "2": "8717"
                                },
                                {
                                    "0": "The Alchemist",
                                    "1": "9712",
                                    "2": "11743"
                                },
                                {
                                    "0": "The Alchemist",
                                    "1": "8698",
                                    "2": "11557"
                                },
                                {
                                    "0": "The Alchemist",
                                    "1": "3089",
                                    "2": "7457"
                                },
                                {
                                    "0": "The Alchemist",
                                    "1": "2297",
                                    "2": "11305"
                                },
                                {
                                    "0": "The Alchemist",
                                    "1": "1979",
                                    "2": "23471"
                                },
                                {
                                    "0": "The Alchemist",
                                    "1": "1597",
                                    "2": "22743"
                                },
                                {
                                    "0": "The Alchemist",
                                    "1": "1360",
                                    "2": "5207"
                                },
                                {
                                    "0": "The Alchemist",
                                    "1": "1232",
                                    "2": "4949"
                                },
                                {
                                    "0": "The Alchemist",
                                    "1": "1194",
                                    "2": "22034"
                                },
                                {
                                    "0": "The Alchemist",
                                    "1": "961",
                                    "2": "28384"
                                },
                                {
                                    "0": "The Alchemist",
                                    "1": "889",
                                    "2": "23150"
                                },
                                {
                                    "0": "The Alchemist",
                                    "1": "840",
                                    "2": "15626"
                                },
                                {
                                    "0": "The Alchemist",
                                    "1": "814",
                                    "2": "18367"
                                },
                                {
                                    "0": "The Alchemist",
                                    "1": "744",
                                    "2": "21989"
                                },
                                {
                                    "0": "The Alchemist",
                                    "1": "732",
                                    "2": "28341"
                                },
                                {
                                    "0": "The Alchemist",
                                    "1": "670",
                                    "2": "1691"
                                },
                                {
                                    "0": "The Alchemist",
                                    "1": "576",
                                    "2": "7404"
                                },
                                {
                                    "0": "The Alchemist",
                                    "1": "570",
                                    "2": "11590"
                                },
                                {
                                    "0": "The Alchemist",
                                    "1": "567",
                                    "2": "22753"
                                },
                                {
                                    "0": "The Alchemist",
                                    "1": "520",
                                    "2": "8055"
                                },
                                {
                                    "0": "The Alchemist",
                                    "1": "452",
                                    "2": "27095"
                                },
                                {
                                    "0": "The Alchemist",
                                    "1": "418",
                                    "2": "33777"
                                },
                                {
                                    "0": "The Alchemist",
                                    "1": "405",
                                    "2": "18919"
                                },
                                {
                                    "0": "The Alchemist",
                                    "1": "384",
                                    "2": "1642"
                                },
                                {
                                    "0": "The Alchemist",
                                    "1": "374",
                                    "2": "30521"
                                },
                                {
                                    "0": "The Alchemist",
                                    "1": "358",
                                    "2": "1659"
                                },
                                {
                                    "0": "The Alchemist",
                                    "1": "334",
                                    "2": "20774"
                                },
                                {
                                    "0": "The Alchemist",
                                    "1": "334",
                                    "2": "14487"
                                },
                                {
                                    "0": "The Alchemist",
                                    "1": "333",
                                    "2": "18045"
                                },
                                {
                                    "0": "The Alchemist",
                                    "1": "330",
                                    "2": "12948"
                                },
                                {
                                    "0": "The Alchemist",
                                    "1": "321",
                                    "2": "7563"
                                },
                                {
                                    "0": "The Alchemist",
                                    "1": "308",
                                    "2": "3389"
                                },
                                {
                                    "0": "The Alchemist",
                                    "1": "297",
                                    "2": "20849"
                                },
                                {
                                    "0": "The Alchemist",
                                    "1": "274",
                                    "2": "11497"
                                },
                                {
                                    "0": "The Alchemist",
                                    "1": "265",
                                    "2": "9221"
                                },
                                {
                                    "0": "The Alchemist",
                                    "1": "246",
                                    "2": "3392"
                                },
                                {
                                    "0": "The Alchemist",
                                    "1": "240",
                                    "2": "17213"
                                },
                                {
                                    "0": "The Alchemist",
                                    "1": "238",
                                    "2": "25647"
                                },
                                {
                                    "0": "The Alchemist",
                                    "1": "236",
                                    "2": "8067"
                                },
                                {
                                    "0": "The Alchemist",
                                    "1": "235",
                                    "2": "26735"
                                },
                                {
                                    "0": "The Alchemist",
                                    "1": "223",
                                    "2": "5051"
                                },
                                {
                                    "0": "The Alchemist",
                                    "1": "216",
                                    "2": "18326"
                                },
                                {
                                    "0": "The Alchemist",
                                    "1": "207",
                                    "2": "24960"
                                },
                                {
                                    "0": "The Alchemist",
                                    "1": "204",
                                    "2": "10644"
                                },
                                {
                                    "0": "The Alchemist",
                                    "1": "198",
                                    "2": "5090"
                                },
                                {
                                    "0": "The Alchemist",
                                    "1": "198",
                                    "2": "31155"
                                },
                                {
                                    "0": "The Alchemist",
                                    "1": "198",
                                    "2": "11978"
                                },
                                {
                                    "0": "The Alchemist",
                                    "1": "191",
                                    "2": "15169"
                                },
                                {
                                    "0": "The Alchemist",
                                    "1": "184",
                                    "2": "5481"
                                },
                                {
                                    "0": "The Alchemist",
                                    "1": "184",
                                    "2": "23465"
                                },
                                {
                                    "0": "The Alchemist",
                                    "1": "179",
                                    "2": "2104"
                                },
                                {
                                    "0": "The Alchemist",
                                    "1": "179",
                                    "2": "10197"
                                },
                                {
                                    "0": "The Alchemist",
                                    "1": "175",
                                    "2": "11505"
                                },
                                {
                                    "0": "The Alchemist",
                                    "1": "166",
                                    "2": "33114"
                                },
                                {
                                    "0": "The Alchemist",
                                    "1": "165",
                                    "2": "1416"
                                },
                                {
                                    "0": "The Alchemist",
                                    "1": "163",
                                    "2": "27535"
                                },
                                {
                                    "0": "The Alchemist",
                                    "1": "159",
                                    "2": "25152"
                                },
                                {
                                    "0": "The Alchemist",
                                    "1": "159",
                                    "2": "22689"
                                },
                                {
                                    "0": "The Alchemist",
                                    "1": "155",
                                    "2": "25151"
                                },
                                {
                                    "0": "The Alchemist",
                                    "1": "146",
                                    "2": "3371"
                                },
                                {
                                    "0": "The Alchemist",
                                    "1": "145",
                                    "2": "9886"
                                },
                                {
                                    "0": "The Alchemist",
                                    "1": "144",
                                    "2": "15642"
                                },
                                {
                                    "0": "The Alchemist",
                                    "1": "142",
                                    "2": "31133"
                                },
                                {
                                    "0": "The Alchemist",
                                    "1": "139",
                                    "2": "923"
                                },
                                {
                                    "0": "The Alchemist",
                                    "1": "136",
                                    "2": "30672"
                                },
                                {
                                    "0": "The Alchemist",
                                    "1": "134",
                                    "2": "25150"
                                },
                                {
                                    "0": "The Alchemist",
                                    "1": "131",
                                    "2": "10210"
                                },
                                {
                                    "0": "The Alchemist",
                                    "1": "128",
                                    "2": "15624"
                                },
                                {
                                    "0": "The Alchemist",
                                    "1": "127",
                                    "2": "32586"
                                },
                                {
                                    "0": "The Alchemist",
                                    "1": "126",
                                    "2": "11574"
                                },
                                {
                                    "0": "The Alchemist",
                                    "1": "125",
                                    "2": "7606"
                                },
                                {
                                    "0": "The Alchemist",
                                    "1": "124",
                                    "2": "20731"
                                },
                                {
                                    "0": "The Alchemist",
                                    "1": "124",
                                    "2": "1746"
                                },
                                {
                                    "0": "The Alchemist",
                                    "1": "119",
                                    "2": "5656"
                                },
                                {
                                    "0": "The Alchemist",
                                    "1": "118",
                                    "2": "20824"
                                },
                                {
                                    "0": "The Alchemist",
                                    "1": "117",
                                    "2": "4959"
                                },
                                {
                                    "0": "The Alchemist",
                                    "1": "116",
                                    "2": "25153"
                                },
                                {
                                    "0": "The Alchemist",
                                    "1": "116",
                                    "2": "22545"
                                },
                                {
                                    "0": "The Alchemist",
                                    "1": "116",
                                    "2": "18318"
                                },
                                {
                                    "0": "The Alchemist",
                                    "1": "113",
                                    "2": "21689"
                                },
                                {
                                    "0": "The Alchemist",
                                    "1": "111",
                                    "2": "23334"
                                },
                                {
                                    "0": "The Alchemist",
                                    "1": "110",
                                    "2": "20282"
                                },
                                {
                                    "0": "The Alchemist",
                                    "1": "110",
                                    "2": "29614"
                                },
                                {
                                    "0": "The Alchemist",
                                    "1": "109",
                                    "2": "27111"
                                },
                                {
                                    "0": "The Alchemist",
                                    "1": "107",
                                    "2": "30573"
                                },
                                {
                                    "0": "The Alchemist",
                                    "1": "107",
                                    "2": "31505"
                                },
                                {
                                    "0": "The Alchemist",
                                    "1": "106",
                                    "2": "17640"
                                },
                                {
                                    "0": "The Alchemist",
                                    "1": "104",
                                    "2": "11106"
                                },
                                {
                                    "0": "The Alchemist",
                                    "1": "102",
                                    "2": "25506"
                                },
                                {
                                    "0": "The Alchemist",
                                    "1": "102",
                                    "2": "5655"
                                },
                                {
                                    "0": "The Alchemist",
                                    "1": "101",
                                    "2": "26138"
                                },
                                {
                                    "0": "The Alchemist",
                                    "1": "101",
                                    "2": "12315"
                                },
                                {
                                    "0": "The Alchemist",
                                    "1": "100",
                                    "2": "4985"
                                },
                                {
                                    "0": "The Alchemist",
                                    "1": "99",
                                    "2": "20288"
                                },
                                {
                                    "0": "The Alchemist",
                                    "1": "99",
                                    "2": "20520"
                                },
                                {
                                    "0": "The Alchemist",
                                    "1": "97",
                                    "2": "28259"
                                },
                                {
                                    "0": "The Alchemist",
                                    "1": "96",
                                    "2": "18130"
                                },
                                {
                                    "0": "The Alchemist",
                                    "1": "95",
                                    "2": "25149"
                                }
                            ]
                        },
                        "text/html": [
                            "<table>",
                            "<tr><th>title</th><th>count</th><th>tag_id</th></tr>",
                            "<tr><td>The Alchemist</td><td>596234</td><td>30574</td></tr>",
                            "<tr><td>The Alchemist</td><td>26269</td><td>8717</td></tr>",
                            "<tr><td>The Alchemist</td><td>9712</td><td>11743</td></tr>",
                            "<tr><td>The Alchemist</td><td>8698</td><td>11557</td></tr>",
                            "<tr><td>The Alchemist</td><td>3089</td><td>7457</td></tr>",
                            "<tr><td>The Alchemist</td><td>2297</td><td>11305</td></tr>",
                            "<tr><td>The Alchemist</td><td>1979</td><td>23471</td></tr>",
                            "<tr><td>The Alchemist</td><td>1597</td><td>22743</td></tr>",
                            "<tr><td>The Alchemist</td><td>1360</td><td>5207</td></tr>",
                            "<tr><td>The Alchemist</td><td>1232</td><td>4949</td></tr>",
                            "<tr><td>The Alchemist</td><td>1194</td><td>22034</td></tr>",
                            "<tr><td>The Alchemist</td><td>961</td><td>28384</td></tr>",
                            "<tr><td>The Alchemist</td><td>889</td><td>23150</td></tr>",
                            "<tr><td>The Alchemist</td><td>840</td><td>15626</td></tr>",
                            "<tr><td>The Alchemist</td><td>814</td><td>18367</td></tr>",
                            "<tr><td>The Alchemist</td><td>744</td><td>21989</td></tr>",
                            "<tr><td>The Alchemist</td><td>732</td><td>28341</td></tr>",
                            "<tr><td>The Alchemist</td><td>670</td><td>1691</td></tr>",
                            "<tr><td>The Alchemist</td><td>576</td><td>7404</td></tr>",
                            "<tr><td>The Alchemist</td><td>570</td><td>11590</td></tr>",
                            "<tr><td>The Alchemist</td><td>567</td><td>22753</td></tr>",
                            "<tr><td>The Alchemist</td><td>520</td><td>8055</td></tr>",
                            "<tr><td>The Alchemist</td><td>452</td><td>27095</td></tr>",
                            "<tr><td>The Alchemist</td><td>418</td><td>33777</td></tr>",
                            "<tr><td>The Alchemist</td><td>405</td><td>18919</td></tr>",
                            "<tr><td>The Alchemist</td><td>384</td><td>1642</td></tr>",
                            "<tr><td>The Alchemist</td><td>374</td><td>30521</td></tr>",
                            "<tr><td>The Alchemist</td><td>358</td><td>1659</td></tr>",
                            "<tr><td>The Alchemist</td><td>334</td><td>20774</td></tr>",
                            "<tr><td>The Alchemist</td><td>334</td><td>14487</td></tr>",
                            "<tr><td>The Alchemist</td><td>333</td><td>18045</td></tr>",
                            "<tr><td>The Alchemist</td><td>330</td><td>12948</td></tr>",
                            "<tr><td>The Alchemist</td><td>321</td><td>7563</td></tr>",
                            "<tr><td>The Alchemist</td><td>308</td><td>3389</td></tr>",
                            "<tr><td>The Alchemist</td><td>297</td><td>20849</td></tr>",
                            "<tr><td>The Alchemist</td><td>274</td><td>11497</td></tr>",
                            "<tr><td>The Alchemist</td><td>265</td><td>9221</td></tr>",
                            "<tr><td>The Alchemist</td><td>246</td><td>3392</td></tr>",
                            "<tr><td>The Alchemist</td><td>240</td><td>17213</td></tr>",
                            "<tr><td>The Alchemist</td><td>238</td><td>25647</td></tr>",
                            "<tr><td>The Alchemist</td><td>236</td><td>8067</td></tr>",
                            "<tr><td>The Alchemist</td><td>235</td><td>26735</td></tr>",
                            "<tr><td>The Alchemist</td><td>223</td><td>5051</td></tr>",
                            "<tr><td>The Alchemist</td><td>216</td><td>18326</td></tr>",
                            "<tr><td>The Alchemist</td><td>207</td><td>24960</td></tr>",
                            "<tr><td>The Alchemist</td><td>204</td><td>10644</td></tr>",
                            "<tr><td>The Alchemist</td><td>198</td><td>5090</td></tr>",
                            "<tr><td>The Alchemist</td><td>198</td><td>31155</td></tr>",
                            "<tr><td>The Alchemist</td><td>198</td><td>11978</td></tr>",
                            "<tr><td>The Alchemist</td><td>191</td><td>15169</td></tr>",
                            "<tr><td>The Alchemist</td><td>184</td><td>5481</td></tr>",
                            "<tr><td>The Alchemist</td><td>184</td><td>23465</td></tr>",
                            "<tr><td>The Alchemist</td><td>179</td><td>2104</td></tr>",
                            "<tr><td>The Alchemist</td><td>179</td><td>10197</td></tr>",
                            "<tr><td>The Alchemist</td><td>175</td><td>11505</td></tr>",
                            "<tr><td>The Alchemist</td><td>166</td><td>33114</td></tr>",
                            "<tr><td>The Alchemist</td><td>165</td><td>1416</td></tr>",
                            "<tr><td>The Alchemist</td><td>163</td><td>27535</td></tr>",
                            "<tr><td>The Alchemist</td><td>159</td><td>25152</td></tr>",
                            "<tr><td>The Alchemist</td><td>159</td><td>22689</td></tr>",
                            "<tr><td>The Alchemist</td><td>155</td><td>25151</td></tr>",
                            "<tr><td>The Alchemist</td><td>146</td><td>3371</td></tr>",
                            "<tr><td>The Alchemist</td><td>145</td><td>9886</td></tr>",
                            "<tr><td>The Alchemist</td><td>144</td><td>15642</td></tr>",
                            "<tr><td>The Alchemist</td><td>142</td><td>31133</td></tr>",
                            "<tr><td>The Alchemist</td><td>139</td><td>923</td></tr>",
                            "<tr><td>The Alchemist</td><td>136</td><td>30672</td></tr>",
                            "<tr><td>The Alchemist</td><td>134</td><td>25150</td></tr>",
                            "<tr><td>The Alchemist</td><td>131</td><td>10210</td></tr>",
                            "<tr><td>The Alchemist</td><td>128</td><td>15624</td></tr>",
                            "<tr><td>The Alchemist</td><td>127</td><td>32586</td></tr>",
                            "<tr><td>The Alchemist</td><td>126</td><td>11574</td></tr>",
                            "<tr><td>The Alchemist</td><td>125</td><td>7606</td></tr>",
                            "<tr><td>The Alchemist</td><td>124</td><td>20731</td></tr>",
                            "<tr><td>The Alchemist</td><td>124</td><td>1746</td></tr>",
                            "<tr><td>The Alchemist</td><td>119</td><td>5656</td></tr>",
                            "<tr><td>The Alchemist</td><td>118</td><td>20824</td></tr>",
                            "<tr><td>The Alchemist</td><td>117</td><td>4959</td></tr>",
                            "<tr><td>The Alchemist</td><td>116</td><td>25153</td></tr>",
                            "<tr><td>The Alchemist</td><td>116</td><td>22545</td></tr>",
                            "<tr><td>The Alchemist</td><td>116</td><td>18318</td></tr>",
                            "<tr><td>The Alchemist</td><td>113</td><td>21689</td></tr>",
                            "<tr><td>The Alchemist</td><td>111</td><td>23334</td></tr>",
                            "<tr><td>The Alchemist</td><td>110</td><td>20282</td></tr>",
                            "<tr><td>The Alchemist</td><td>110</td><td>29614</td></tr>",
                            "<tr><td>The Alchemist</td><td>109</td><td>27111</td></tr>",
                            "<tr><td>The Alchemist</td><td>107</td><td>30573</td></tr>",
                            "<tr><td>The Alchemist</td><td>107</td><td>31505</td></tr>",
                            "<tr><td>The Alchemist</td><td>106</td><td>17640</td></tr>",
                            "<tr><td>The Alchemist</td><td>104</td><td>11106</td></tr>",
                            "<tr><td>The Alchemist</td><td>102</td><td>25506</td></tr>",
                            "<tr><td>The Alchemist</td><td>102</td><td>5655</td></tr>",
                            "<tr><td>The Alchemist</td><td>101</td><td>26138</td></tr>",
                            "<tr><td>The Alchemist</td><td>101</td><td>12315</td></tr>",
                            "<tr><td>The Alchemist</td><td>100</td><td>4985</td></tr>",
                            "<tr><td>The Alchemist</td><td>99</td><td>20288</td></tr>",
                            "<tr><td>The Alchemist</td><td>99</td><td>20520</td></tr>",
                            "<tr><td>The Alchemist</td><td>97</td><td>28259</td></tr>",
                            "<tr><td>The Alchemist</td><td>96</td><td>18130</td></tr>",
                            "<tr><td>The Alchemist</td><td>95</td><td>25149</td></tr>",
                            "</table>"
                        ]
                    }
                }
            ],
            "execution_count": 27
        },
        {
            "cell_type": "code",
            "source": [
                "SELECT TOP 2 * \n",
                "FROM BooksDB.dbo.tags;\n",
                "-- tag_id, tag_name\n",
                "\n",
                "SELECT tag_name\n",
                "FROM BooksDB.dbo.tags\n",
                "WHERE tag_id = 30574;\n",
                "\n",
                "SELECT * \n",
                "FROM BooksDB.dbo.tags\n",
                "WHERE tag_name LIKE '%baking'"
            ],
            "metadata": {
                "azdata_cell_guid": "c4b0b67c-7cfa-4f52-be97-ffe5cc28ed54"
            },
            "outputs": [
                {
                    "output_type": "display_data",
                    "data": {
                        "text/html": "(2 rows affected)"
                    },
                    "metadata": {}
                },
                {
                    "output_type": "display_data",
                    "data": {
                        "text/html": "(1 row affected)"
                    },
                    "metadata": {}
                },
                {
                    "output_type": "display_data",
                    "data": {
                        "text/html": "(9 rows affected)"
                    },
                    "metadata": {}
                },
                {
                    "output_type": "display_data",
                    "data": {
                        "text/html": "Total execution time: 00:00:00.134"
                    },
                    "metadata": {}
                },
                {
                    "output_type": "execute_result",
                    "metadata": {},
                    "execution_count": 11,
                    "data": {
                        "application/vnd.dataresource+json": {
                            "schema": {
                                "fields": [
                                    {
                                        "name": "tag_id"
                                    },
                                    {
                                        "name": "tag_name"
                                    }
                                ]
                            },
                            "data": [
                                {
                                    "0": "0",
                                    "1": "-"
                                },
                                {
                                    "0": "1",
                                    "1": "--1-"
                                }
                            ]
                        },
                        "text/html": [
                            "<table>",
                            "<tr><th>tag_id</th><th>tag_name</th></tr>",
                            "<tr><td>0</td><td>-</td></tr>",
                            "<tr><td>1</td><td>--1-</td></tr>",
                            "</table>"
                        ]
                    }
                },
                {
                    "output_type": "execute_result",
                    "metadata": {},
                    "execution_count": 11,
                    "data": {
                        "application/vnd.dataresource+json": {
                            "schema": {
                                "fields": [
                                    {
                                        "name": "tag_name"
                                    }
                                ]
                            },
                            "data": [
                                {
                                    "0": "to-read"
                                }
                            ]
                        },
                        "text/html": [
                            "<table>",
                            "<tr><th>tag_name</th></tr>",
                            "<tr><td>to-read</td></tr>",
                            "</table>"
                        ]
                    }
                },
                {
                    "output_type": "execute_result",
                    "metadata": {},
                    "execution_count": 11,
                    "data": {
                        "application/vnd.dataresource+json": {
                            "schema": {
                                "fields": [
                                    {
                                        "name": "tag_id"
                                    },
                                    {
                                        "name": "tag_name"
                                    }
                                ]
                            },
                            "data": [
                                {
                                    "0": "3816",
                                    "1": "baking"
                                },
                                {
                                    "0": "5666",
                                    "1": "bread-baking"
                                },
                                {
                                    "0": "8131",
                                    "1": "cookbook-baking"
                                },
                                {
                                    "0": "8157",
                                    "1": "cookbooks-baking"
                                },
                                {
                                    "0": "8211",
                                    "1": "cooking-and-baking"
                                },
                                {
                                    "0": "8218",
                                    "1": "cooking-baking"
                                },
                                {
                                    "0": "9332",
                                    "1": "desserts-baking"
                                },
                                {
                                    "0": "12198",
                                    "1": "food-baking"
                                },
                                {
                                    "0": "12257",
                                    "1": "foodie-baking"
                                }
                            ]
                        },
                        "text/html": [
                            "<table>",
                            "<tr><th>tag_id</th><th>tag_name</th></tr>",
                            "<tr><td>3816</td><td>baking</td></tr>",
                            "<tr><td>5666</td><td>bread-baking</td></tr>",
                            "<tr><td>8131</td><td>cookbook-baking</td></tr>",
                            "<tr><td>8157</td><td>cookbooks-baking</td></tr>",
                            "<tr><td>8211</td><td>cooking-and-baking</td></tr>",
                            "<tr><td>8218</td><td>cooking-baking</td></tr>",
                            "<tr><td>9332</td><td>desserts-baking</td></tr>",
                            "<tr><td>12198</td><td>food-baking</td></tr>",
                            "<tr><td>12257</td><td>foodie-baking</td></tr>",
                            "</table>"
                        ]
                    }
                }
            ],
            "execution_count": 11
        },
        {
            "cell_type": "code",
            "source": [
                "-- joining the to read table with the book table \n",
                "-- currently looking at how many users want read what title\n",
                "SELECT TOP 5 b.title, tr.user_id\n",
                "FROM BooksDB.dbo.books AS b\n",
                "INNER JOIN BooksDB.dbo.to_read AS tr\n",
                "ON b.book_id = tr.book_id;\n",
                "\n",
                "-- WHAT ARE THE TOP TEN MOST POPULAR BOOK TITLE ON THE TO READ LIST?  \n",
                "SELECT TOP 10 COUNT(tr.user_id) AS NumToRead, b.title\n",
                "FROM BooksDB.dbo.books AS b\n",
                "INNER JOIN BooksDB.dbo.to_read AS tr\n",
                "ON b.book_id = tr.book_id\n",
                "GROUP BY b.title \n",
                "ORDER BY NumToRead DESC;"
            ],
            "metadata": {
                "azdata_cell_guid": "c6c815f8-890d-4163-be63-3d300e320597"
            },
            "outputs": [
                {
                    "output_type": "display_data",
                    "data": {
                        "text/html": "(5 rows affected)"
                    },
                    "metadata": {}
                },
                {
                    "output_type": "display_data",
                    "data": {
                        "text/html": "(10 rows affected)"
                    },
                    "metadata": {}
                },
                {
                    "output_type": "display_data",
                    "data": {
                        "text/html": "Total execution time: 00:00:04.720"
                    },
                    "metadata": {}
                },
                {
                    "output_type": "execute_result",
                    "execution_count": 32,
                    "data": {
                        "application/vnd.dataresource+json": {
                            "schema": {
                                "fields": [
                                    {
                                        "name": "title"
                                    },
                                    {
                                        "name": "user_id"
                                    }
                                ]
                            },
                            "data": [
                                {
                                    "0": "Harry Potter and the Sorcerer's Stone (Harry Potter, #1)",
                                    "1": "61"
                                },
                                {
                                    "0": "Harry Potter and the Sorcerer's Stone (Harry Potter, #1)",
                                    "1": "590"
                                },
                                {
                                    "0": "Harry Potter and the Sorcerer's Stone (Harry Potter, #1)",
                                    "1": "632"
                                },
                                {
                                    "0": "Harry Potter and the Sorcerer's Stone (Harry Potter, #1)",
                                    "1": "892"
                                },
                                {
                                    "0": "Harry Potter and the Sorcerer's Stone (Harry Potter, #1)",
                                    "1": "1400"
                                }
                            ]
                        },
                        "text/html": "<table><tr><th>title</th><th>user_id</th></tr><tr><td>Harry Potter and the Sorcerer's Stone (Harry Potter, #1)</td><td>61</td></tr><tr><td>Harry Potter and the Sorcerer's Stone (Harry Potter, #1)</td><td>590</td></tr><tr><td>Harry Potter and the Sorcerer's Stone (Harry Potter, #1)</td><td>632</td></tr><tr><td>Harry Potter and the Sorcerer's Stone (Harry Potter, #1)</td><td>892</td></tr><tr><td>Harry Potter and the Sorcerer's Stone (Harry Potter, #1)</td><td>1400</td></tr></table>"
                    },
                    "metadata": {}
                },
                {
                    "output_type": "execute_result",
                    "execution_count": 32,
                    "data": {
                        "application/vnd.dataresource+json": {
                            "schema": {
                                "fields": [
                                    {
                                        "name": "NumToRead"
                                    },
                                    {
                                        "name": "title"
                                    }
                                ]
                            },
                            "data": [
                                {
                                    "0": "1812",
                                    "1": "The Ultimate Hitchhiker's Guide to the Galaxy"
                                },
                                {
                                    "0": "1767",
                                    "1": "The Hitchhiker's Guide to the Galaxy (Hitchhiker's Guide to the Galaxy, #1)"
                                },
                                {
                                    "0": "1499",
                                    "1": "The Lord of the Rings: The Art of The Fellowship of the Ring"
                                },
                                {
                                    "0": "1498",
                                    "1": "Harry Potter Boxed Set, Books 1-5 (Harry Potter, #1-5)"
                                },
                                {
                                    "0": "1484",
                                    "1": "Harry Potter and the Goblet of Fire (Harry Potter, #4)"
                                },
                                {
                                    "0": "1352",
                                    "1": "The Known World"
                                },
                                {
                                    "0": "1293",
                                    "1": "Harry Potter and the Prisoner of Azkaban (Harry Potter, #3)"
                                },
                                {
                                    "0": "1211",
                                    "1": "The Lord of the Rings: Weapons and Warfare"
                                },
                                {
                                    "0": "1148",
                                    "1": "Notes from a Small Island"
                                },
                                {
                                    "0": "1110",
                                    "1": "Harry Potter Collection (Harry Potter, #1-6)"
                                }
                            ]
                        },
                        "text/html": "<table><tr><th>NumToRead</th><th>title</th></tr><tr><td>1812</td><td>The Ultimate Hitchhiker's Guide to the Galaxy</td></tr><tr><td>1767</td><td>The Hitchhiker's Guide to the Galaxy (Hitchhiker's Guide to the Galaxy, #1)</td></tr><tr><td>1499</td><td>The Lord of the Rings: The Art of The Fellowship of the Ring</td></tr><tr><td>1498</td><td>Harry Potter Boxed Set, Books 1-5 (Harry Potter, #1-5)</td></tr><tr><td>1484</td><td>Harry Potter and the Goblet of Fire (Harry Potter, #4)</td></tr><tr><td>1352</td><td>The Known World</td></tr><tr><td>1293</td><td>Harry Potter and the Prisoner of Azkaban (Harry Potter, #3)</td></tr><tr><td>1211</td><td>The Lord of the Rings: Weapons and Warfare</td></tr><tr><td>1148</td><td>Notes from a Small Island</td></tr><tr><td>1110</td><td>Harry Potter Collection (Harry Potter, #1-6)</td></tr></table>"
                    },
                    "metadata": {}
                }
            ],
            "execution_count": 32
        }
    ]
}