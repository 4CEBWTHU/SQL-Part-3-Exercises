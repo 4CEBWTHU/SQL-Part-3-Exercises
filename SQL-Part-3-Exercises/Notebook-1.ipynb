{
    "metadata": {
        "kernelspec": {
            "name": "SQL",
            "display_name": "SQL",
            "language": "sql"
        },
        "language_info": {
            "name": "sql",
            "version": ""
        },
        "extensions": {
            "azuredatastudio": {
                "version": 1,
                "views": []
            }
        }
    },
    "nbformat_minor": 2,
    "nbformat": 4,
    "cells": [
        {
            "cell_type": "markdown",
            "source": [
                "SQL Part 3 Exercises -- BooksDB"
            ],
            "metadata": {
                "azdata_cell_guid": "db9534a9-c8a7-4c09-8180-bcba0690bb02"
            },
            "attachments": {}
        },
        {
            "cell_type": "code",
            "source": [
                "SELECT TOP 2 *\n",
                "FROM BooksDB.dbo.to_read;\n",
                "-- user_id, book_id\n",
                "\n",
                "-- book table: can find titles and authors, languages\n",
                "\n",
                ""
            ],
            "metadata": {
                "azdata_cell_guid": "5b2df79c-85c2-48e4-bf05-6ccf3edf7e01"
            },
            "outputs": [
                {
                    "output_type": "display_data",
                    "data": {
                        "text/html": "(2 rows affected)"
                    },
                    "metadata": {}
                },
                {
                    "output_type": "display_data",
                    "data": {
                        "text/html": "Total execution time: 00:00:00.069"
                    },
                    "metadata": {}
                },
                {
                    "output_type": "execute_result",
                    "execution_count": 27,
                    "data": {
                        "application/vnd.dataresource+json": {
                            "schema": {
                                "fields": [
                                    {
                                        "name": "user_id"
                                    },
                                    {
                                        "name": "book_id"
                                    }
                                ]
                            },
                            "data": [
                                {
                                    "0": "1",
                                    "1": "112"
                                },
                                {
                                    "0": "1",
                                    "1": "235"
                                }
                            ]
                        },
                        "text/html": "<table><tr><th>user_id</th><th>book_id</th></tr><tr><td>1</td><td>112</td></tr><tr><td>1</td><td>235</td></tr></table>"
                    },
                    "metadata": {}
                }
            ],
            "execution_count": 27
        },
        {
            "cell_type": "code",
            "source": [
                "SELECT TOP 2 * \n",
                "FROM BooksDB.dbo.books;\n",
                "-- id, book_id, best_book_id, work_id, book_counts, isbn, isbn13, authors, original_publication_year, original_title, title, language_code, average_rating, ratings_count, work_ratings_count, work_text_reviews_count, ratings_1-5, small and large image urls\n",
                "\n",
                ""
            ],
            "metadata": {
                "azdata_cell_guid": "972b279a-5639-44a3-b514-729fb6301108"
            },
            "outputs": [
                {
                    "output_type": "display_data",
                    "data": {
                        "text/html": "(2 rows affected)"
                    },
                    "metadata": {}
                },
                {
                    "output_type": "display_data",
                    "data": {
                        "text/html": "Total execution time: 00:00:00.129"
                    },
                    "metadata": {}
                },
                {
                    "output_type": "execute_result",
                    "execution_count": 28,
                    "data": {
                        "application/vnd.dataresource+json": {
                            "schema": {
                                "fields": [
                                    {
                                        "name": "id"
                                    },
                                    {
                                        "name": "book_id"
                                    },
                                    {
                                        "name": "best_book_id"
                                    },
                                    {
                                        "name": "work_id"
                                    },
                                    {
                                        "name": "books_count"
                                    },
                                    {
                                        "name": "isbn"
                                    },
                                    {
                                        "name": "isbn13"
                                    },
                                    {
                                        "name": "authors"
                                    },
                                    {
                                        "name": "original_publication_year"
                                    },
                                    {
                                        "name": "original_title"
                                    },
                                    {
                                        "name": "title"
                                    },
                                    {
                                        "name": "language_code"
                                    },
                                    {
                                        "name": "average_rating"
                                    },
                                    {
                                        "name": "ratings_count"
                                    },
                                    {
                                        "name": "work_ratings_count"
                                    },
                                    {
                                        "name": "work_text_reviews_count"
                                    },
                                    {
                                        "name": "ratings_1"
                                    },
                                    {
                                        "name": "ratings_2"
                                    },
                                    {
                                        "name": "ratings_3"
                                    },
                                    {
                                        "name": "ratings_4"
                                    },
                                    {
                                        "name": "ratings_5"
                                    },
                                    {
                                        "name": "image_url"
                                    },
                                    {
                                        "name": "small_image_url"
                                    }
                                ]
                            },
                            "data": [
                                {
                                    "0": "1",
                                    "1": "2767052",
                                    "2": "2767052",
                                    "3": "2792775",
                                    "4": "272",
                                    "5": "439023483",
                                    "6": "9780439023480",
                                    "7": "Suzanne Collins",
                                    "8": "2008",
                                    "9": "The Hunger Games",
                                    "10": "The Hunger Games (The Hunger Games, #1)",
                                    "11": "eng",
                                    "12": "4.34",
                                    "13": "4780653",
                                    "14": "4942365",
                                    "15": "155254",
                                    "16": "66715",
                                    "17": "127936",
                                    "18": "560092",
                                    "19": "1481305",
                                    "20": "2706317",
                                    "21": "https://images.gr-assets.com/books/1447303603m/2767052.jpg",
                                    "22": "https://images.gr-assets.com/books/1447303603s/2767052.jpg"
                                },
                                {
                                    "0": "2",
                                    "1": "3",
                                    "2": "3",
                                    "3": "4640799",
                                    "4": "491",
                                    "5": "439554934",
                                    "6": "9780439554930",
                                    "7": "J.K. Rowling, Mary GrandPré",
                                    "8": "1997",
                                    "9": "Harry Potter and the Philosopher's Stone",
                                    "10": "Harry Potter and the Sorcerer's Stone (Harry Potter, #1)",
                                    "11": "eng",
                                    "12": "4.44",
                                    "13": "4602479",
                                    "14": "4800065",
                                    "15": "75867",
                                    "16": "75504",
                                    "17": "101676",
                                    "18": "455024",
                                    "19": "1156318",
                                    "20": "3011543",
                                    "21": "https://images.gr-assets.com/books/1474154022m/3.jpg",
                                    "22": "https://images.gr-assets.com/books/1474154022s/3.jpg"
                                }
                            ]
                        },
                        "text/html": "<table><tr><th>id</th><th>book_id</th><th>best_book_id</th><th>work_id</th><th>books_count</th><th>isbn</th><th>isbn13</th><th>authors</th><th>original_publication_year</th><th>original_title</th><th>title</th><th>language_code</th><th>average_rating</th><th>ratings_count</th><th>work_ratings_count</th><th>work_text_reviews_count</th><th>ratings_1</th><th>ratings_2</th><th>ratings_3</th><th>ratings_4</th><th>ratings_5</th><th>image_url</th><th>small_image_url</th></tr><tr><td>1</td><td>2767052</td><td>2767052</td><td>2792775</td><td>272</td><td>439023483</td><td>9780439023480</td><td>Suzanne Collins</td><td>2008</td><td>The Hunger Games</td><td>The Hunger Games (The Hunger Games, #1)</td><td>eng</td><td>4.34</td><td>4780653</td><td>4942365</td><td>155254</td><td>66715</td><td>127936</td><td>560092</td><td>1481305</td><td>2706317</td><td>https://images.gr-assets.com/books/1447303603m/2767052.jpg</td><td>https://images.gr-assets.com/books/1447303603s/2767052.jpg</td></tr><tr><td>2</td><td>3</td><td>3</td><td>4640799</td><td>491</td><td>439554934</td><td>9780439554930</td><td>J.K. Rowling, Mary GrandPré</td><td>1997</td><td>Harry Potter and the Philosopher's Stone</td><td>Harry Potter and the Sorcerer's Stone (Harry Potter, #1)</td><td>eng</td><td>4.44</td><td>4602479</td><td>4800065</td><td>75867</td><td>75504</td><td>101676</td><td>455024</td><td>1156318</td><td>3011543</td><td>https://images.gr-assets.com/books/1474154022m/3.jpg</td><td>https://images.gr-assets.com/books/1474154022s/3.jpg</td></tr></table>"
                    },
                    "metadata": {}
                }
            ],
            "execution_count": 28
        },
        {
            "cell_type": "code",
            "source": [
                "SELECT TOP 2 *\n",
                "FROM BooksDB.dbo.ratings;\n",
                "-- book_id, user_id, rating\n",
                "\n",
                "-- books table can find titles\n",
                ""
            ],
            "metadata": {
                "azdata_cell_guid": "a87ab014-ca89-46a3-8301-7334db375db1"
            },
            "outputs": [
                {
                    "output_type": "display_data",
                    "data": {
                        "text/html": "(2 rows affected)"
                    },
                    "metadata": {}
                },
                {
                    "output_type": "display_data",
                    "data": {
                        "text/html": "Total execution time: 00:00:00.056"
                    },
                    "metadata": {}
                },
                {
                    "output_type": "execute_result",
                    "execution_count": 29,
                    "data": {
                        "application/vnd.dataresource+json": {
                            "schema": {
                                "fields": [
                                    {
                                        "name": "book_id"
                                    },
                                    {
                                        "name": "user_id"
                                    },
                                    {
                                        "name": "rating"
                                    }
                                ]
                            },
                            "data": [
                                {
                                    "0": "59",
                                    "1": "35146",
                                    "2": "4"
                                },
                                {
                                    "0": "59",
                                    "1": "36099",
                                    "2": "5"
                                }
                            ]
                        },
                        "text/html": "<table><tr><th>book_id</th><th>user_id</th><th>rating</th></tr><tr><td>59</td><td>35146</td><td>4</td></tr><tr><td>59</td><td>36099</td><td>5</td></tr></table>"
                    },
                    "metadata": {}
                }
            ],
            "execution_count": 29
        },
        {
            "cell_type": "code",
            "source": [
                "-- Find the most tagged book\n",
                "\n",
                "-- using the books and book_tags tables:\n",
                "\n",
                "-- What Book has the most popular tag id?\n",
                "SELECT TOP 100 b.title, bt.count, bt.tag_id\n",
                "FROM BooksDB.dbo.books AS b\n",
                "INNER JOIN BooksDB.dbo.book_tags AS bt\n",
                "ON bt.goodreads_book_id = b.best_book_id\n",
                "ORDER BY bt.count DESC;\n",
                "-- ANS: The Alchemist\n",
                "\n",
                "-----------------------------------------------\n",
                "-- How many different tags for the Alchemist?\n",
                "SELECT TOP 5 b.title, bt.[count], bt.tag_id\n",
                "FROM BooksDB.dbo.books AS b\n",
                "INNER JOIN BooksDB.dbo.book_tags AS bt\n",
                "ON bt.goodreads_book_id = b.best_book_id\n",
                "WHERE b.title = 'The Alchemist'\n",
                "ORDER BY bt.[count] DESC;\n",
                "-- ANS: 100\n",
                "\n",
                "-------------------------------------\n",
                "-- using the tags table\n",
                "\n",
                "-- what is the most popular tag for the Alchemist?\n",
                "SELECT tag_name\n",
                "FROM BooksDB.dbo.tags\n",
                "WHERE tag_id = 30574;\n",
                "-- ANS: to-read (seriously?!?)"
            ],
            "metadata": {
                "azdata_cell_guid": "de3ac253-6b47-4740-8c6e-5f9d1b0ce36b"
            },
            "outputs": [
                {
                    "output_type": "display_data",
                    "data": {
                        "text/html": "(100 rows affected)"
                    },
                    "metadata": {}
                },
                {
                    "output_type": "display_data",
                    "data": {
                        "text/html": "(5 rows affected)"
                    },
                    "metadata": {}
                },
                {
                    "output_type": "display_data",
                    "data": {
                        "text/html": "(1 row affected)"
                    },
                    "metadata": {}
                },
                {
                    "output_type": "display_data",
                    "data": {
                        "text/html": "Total execution time: 00:00:01.195"
                    },
                    "metadata": {}
                },
                {
                    "output_type": "execute_result",
                    "metadata": {},
                    "execution_count": 5,
                    "data": {
                        "application/vnd.dataresource+json": {
                            "schema": {
                                "fields": [
                                    {
                                        "name": "title"
                                    },
                                    {
                                        "name": "count"
                                    },
                                    {
                                        "name": "tag_id"
                                    }
                                ]
                            },
                            "data": [
                                {
                                    "0": "The Alchemist",
                                    "1": "596234",
                                    "2": "30574"
                                },
                                {
                                    "0": "The Girl with the Dragon Tattoo (Millennium, #1)",
                                    "1": "586235",
                                    "2": "30574"
                                },
                                {
                                    "0": "All the Light We Cannot See",
                                    "1": "505884",
                                    "2": "30574"
                                },
                                {
                                    "0": "Harry Potter and the Sorcerer's Stone (Harry Potter, #1)",
                                    "1": "496107",
                                    "2": "30574"
                                },
                                {
                                    "0": "Les Misérables",
                                    "1": "488469",
                                    "2": "30574"
                                },
                                {
                                    "0": "Cinder (The Lunar Chronicles, #1)",
                                    "1": "474954",
                                    "2": "30574"
                                },
                                {
                                    "0": "Catch-22",
                                    "1": "465640",
                                    "2": "30574"
                                },
                                {
                                    "0": "Gone with the Wind",
                                    "1": "454565",
                                    "2": "30574"
                                },
                                {
                                    "0": "Slaughterhouse-Five",
                                    "1": "443942",
                                    "2": "30574"
                                },
                                {
                                    "0": "A Tale of Two Cities",
                                    "1": "402942",
                                    "2": "30574"
                                },
                                {
                                    "0": "The Maze Runner (Maze Runner, #1)",
                                    "1": "380255",
                                    "2": "30574"
                                },
                                {
                                    "0": "If I Stay (If I Stay, #1)",
                                    "1": "378509",
                                    "2": "30574"
                                },
                                {
                                    "0": "The Picture of Dorian Gray",
                                    "1": "358381",
                                    "2": "30574"
                                },
                                {
                                    "0": "The Handmaid's Tale",
                                    "1": "348218",
                                    "2": "30574"
                                },
                                {
                                    "0": "Little Women (Little Women, #1)",
                                    "1": "345105",
                                    "2": "30574"
                                },
                                {
                                    "0": "Bossypants",
                                    "1": "332278",
                                    "2": "30574"
                                },
                                {
                                    "0": "The Tipping Point: How Little Things Can Make a Big Difference",
                                    "1": "320295",
                                    "2": "30574"
                                },
                                {
                                    "0": "Room",
                                    "1": "302652",
                                    "2": "30574"
                                },
                                {
                                    "0": "Middlesex",
                                    "1": "299006",
                                    "2": "30574"
                                },
                                {
                                    "0": "Dracula",
                                    "1": "287576",
                                    "2": "30574"
                                },
                                {
                                    "0": "The Secret Life of Bees",
                                    "1": "286899",
                                    "2": "30574"
                                },
                                {
                                    "0": "Yes Please",
                                    "1": "286059",
                                    "2": "30574"
                                },
                                {
                                    "0": "The Name of the Wind (The Kingkiller Chronicle, #1)",
                                    "1": "283253",
                                    "2": "30574"
                                },
                                {
                                    "0": "The 7 Habits of Highly Effective People: Powerful Lessons in Personal Change",
                                    "1": "283148",
                                    "2": "30574"
                                },
                                {
                                    "0": "Romeo and Juliet",
                                    "1": "279627",
                                    "2": "30574"
                                },
                                {
                                    "0": "Ender's Game (Ender's Saga, #1)",
                                    "1": "277113",
                                    "2": "30574"
                                },
                                {
                                    "0": "The Golden Compass (His Dark Materials, #1)",
                                    "1": "276683",
                                    "2": "30574"
                                },
                                {
                                    "0": "The Nightingale",
                                    "1": "275551",
                                    "2": "30574"
                                },
                                {
                                    "0": "The 5th Wave (The 5th Wave, #1)",
                                    "1": "271738",
                                    "2": "30574"
                                },
                                {
                                    "0": "War and Peace",
                                    "1": "271642",
                                    "2": "30574"
                                },
                                {
                                    "0": "The Glass Castle",
                                    "1": "260535",
                                    "2": "30574"
                                },
                                {
                                    "0": "Daughter of Smoke & Bone (Daughter of Smoke & Bone, #1)",
                                    "1": "255961",
                                    "2": "30574"
                                },
                                {
                                    "0": "Moby-Dick or, The Whale",
                                    "1": "255686",
                                    "2": "30574"
                                },
                                {
                                    "0": "In the Woods (Dublin Murder Squad, #1)",
                                    "1": "249532",
                                    "2": "30574"
                                },
                                {
                                    "0": "Harry Potter and the Cursed Child - Parts One and Two (Harry Potter, #8)",
                                    "1": "248603",
                                    "2": "30574"
                                },
                                {
                                    "0": "Wonder",
                                    "1": "248197",
                                    "2": "30574"
                                },
                                {
                                    "0": "Ready Player One",
                                    "1": "244228",
                                    "2": "30574"
                                },
                                {
                                    "0": "The Cuckoo's Calling (Cormoran Strike, #1)",
                                    "1": "241339",
                                    "2": "30574"
                                },
                                {
                                    "0": "Is Everyone Hanging Out Without Me? (And Other Concerns)",
                                    "1": "240537",
                                    "2": "30574"
                                },
                                {
                                    "0": "And Then There Were None",
                                    "1": "238965",
                                    "2": "30574"
                                },
                                {
                                    "0": "The Odyssey",
                                    "1": "238730",
                                    "2": "30574"
                                },
                                {
                                    "0": "Dune (Dune Chronicles #1)",
                                    "1": "232155",
                                    "2": "30574"
                                },
                                {
                                    "0": "In Cold Blood",
                                    "1": "231340",
                                    "2": "30574"
                                },
                                {
                                    "0": "A Wrinkle in Time (A Wrinkle in Time Quintet, #1)",
                                    "1": "228455",
                                    "2": "30574"
                                },
                                {
                                    "0": "Great Expectations",
                                    "1": "227548",
                                    "2": "30574"
                                },
                                {
                                    "0": "Allegiant (Divergent, #3)",
                                    "1": "225359",
                                    "2": "30574"
                                },
                                {
                                    "0": "Graceling (Graceling Realm, #1)",
                                    "1": "222895",
                                    "2": "30574"
                                },
                                {
                                    "0": "The Secret Garden",
                                    "1": "222156",
                                    "2": "30574"
                                },
                                {
                                    "0": "A Tree Grows in Brooklyn",
                                    "1": "220839",
                                    "2": "30574"
                                },
                                {
                                    "0": "Persuasion",
                                    "1": "220502",
                                    "2": "30574"
                                },
                                {
                                    "0": "Across the Universe (Across the Universe, #1)",
                                    "1": "211797",
                                    "2": "30574"
                                },
                                {
                                    "0": "The Raven Boys (The Raven Cycle, #1)",
                                    "1": "208617",
                                    "2": "30574"
                                },
                                {
                                    "0": "11/22/63",
                                    "1": "206727",
                                    "2": "30574"
                                },
                                {
                                    "0": "The Light Between Oceans",
                                    "1": "205604",
                                    "2": "30574"
                                },
                                {
                                    "0": "Insurgent (Divergent, #2)",
                                    "1": "204393",
                                    "2": "30574"
                                },
                                {
                                    "0": "Perfect Chemistry (Perfect Chemistry, #1)",
                                    "1": "203586",
                                    "2": "30574"
                                },
                                {
                                    "0": "It's Kind of a Funny Story",
                                    "1": "202218",
                                    "2": "30574"
                                },
                                {
                                    "0": "Will Grayson, Will Grayson",
                                    "1": "201350",
                                    "2": "30574"
                                },
                                {
                                    "0": "Six of Crows (Six of Crows, #1)",
                                    "1": "198698",
                                    "2": "30574"
                                },
                                {
                                    "0": "Man's Search for Meaning",
                                    "1": "198532",
                                    "2": "30574"
                                },
                                {
                                    "0": "My Sister's Keeper",
                                    "1": "197630",
                                    "2": "30574"
                                },
                                {
                                    "0": "Red Rising (Red Rising, #1)",
                                    "1": "191615",
                                    "2": "30574"
                                },
                                {
                                    "0": "The Shadow of the Wind (The Cemetery of Forgotten Books,  #1)",
                                    "1": "190891",
                                    "2": "30574"
                                },
                                {
                                    "0": "A Court of Thorns and Roses (A Court of Thorns and Roses, #1)",
                                    "1": "188981",
                                    "2": "30574"
                                },
                                {
                                    "0": "Unwind (Unwind, #1)",
                                    "1": "187025",
                                    "2": "30574"
                                },
                                {
                                    "0": "When Breath Becomes Air",
                                    "1": "184635",
                                    "2": "30574"
                                },
                                {
                                    "0": "The Boy in the Striped Pajamas",
                                    "1": "182087",
                                    "2": "30574"
                                },
                                {
                                    "0": "The Giving Tree",
                                    "1": "181787",
                                    "2": "30574"
                                },
                                {
                                    "0": "The Underground Railroad",
                                    "1": "177759",
                                    "2": "30574"
                                },
                                {
                                    "0": "Girl with a Pearl Earring",
                                    "1": "177278",
                                    "2": "30574"
                                },
                                {
                                    "0": "Stardust",
                                    "1": "177061",
                                    "2": "30574"
                                },
                                {
                                    "0": "Everything, Everything",
                                    "1": "175234",
                                    "2": "30574"
                                },
                                {
                                    "0": "Speak",
                                    "1": "175206",
                                    "2": "30574"
                                },
                                {
                                    "0": "The Devil Wears Prada (The Devil Wears Prada, #1)",
                                    "1": "173514",
                                    "2": "30574"
                                },
                                {
                                    "0": "John Adams",
                                    "1": "172823",
                                    "2": "30574"
                                },
                                {
                                    "0": "Three Cups of Tea: One Man's Mission to Promote Peace ... One School at a Time",
                                    "1": "171855",
                                    "2": "30574"
                                },
                                {
                                    "0": "City of Heavenly Fire (The Mortal Instruments, #6)",
                                    "1": "171251",
                                    "2": "30574"
                                },
                                {
                                    "0": "The Unbearable Lightness of Being",
                                    "1": "170503",
                                    "2": "30574"
                                },
                                {
                                    "0": "Easy (Contours of the Heart, #1)",
                                    "1": "170119",
                                    "2": "30574"
                                },
                                {
                                    "0": "The Stand",
                                    "1": "168898",
                                    "2": "30574"
                                },
                                {
                                    "0": "Harry Potter and the Half-Blood Prince (Harry Potter, #6)",
                                    "1": "167697",
                                    "2": "30574"
                                },
                                {
                                    "0": "Attachments",
                                    "1": "167644",
                                    "2": "30574"
                                },
                                {
                                    "0": "A People's History of the United States",
                                    "1": "166850",
                                    "2": "30574"
                                },
                                {
                                    "0": "Siddhartha",
                                    "1": "166101",
                                    "2": "30574"
                                },
                                {
                                    "0": "Station Eleven",
                                    "1": "165591",
                                    "2": "30574"
                                },
                                {
                                    "0": "A Dance with Dragons (A Song of Ice and Fire, #5)",
                                    "1": "163132",
                                    "2": "30574"
                                },
                                {
                                    "0": "Cat's Cradle",
                                    "1": "161030",
                                    "2": "30574"
                                },
                                {
                                    "0": "House of Leaves",
                                    "1": "160824",
                                    "2": "30574"
                                },
                                {
                                    "0": "My Life Next Door",
                                    "1": "160518",
                                    "2": "30574"
                                },
                                {
                                    "0": "All the Ugly and Wonderful Things",
                                    "1": "159524",
                                    "2": "30574"
                                },
                                {
                                    "0": "1Q84",
                                    "1": "158754",
                                    "2": "30574"
                                },
                                {
                                    "0": "Dear John",
                                    "1": "158655",
                                    "2": "30574"
                                },
                                {
                                    "0": "Clockwork Prince (The Infernal Devices, #2)",
                                    "1": "156839",
                                    "2": "30574"
                                },
                                {
                                    "0": "Inferno (Robert Langdon, #4)",
                                    "1": "155961",
                                    "2": "30574"
                                },
                                {
                                    "0": "On the Road",
                                    "1": "155810",
                                    "2": "30574"
                                },
                                {
                                    "0": "The Time Machine",
                                    "1": "155806",
                                    "2": "30574"
                                },
                                {
                                    "0": "City of Ashes (The Mortal Instruments, #2)",
                                    "1": "149747",
                                    "2": "30574"
                                },
                                {
                                    "0": "Orphan Train",
                                    "1": "147588",
                                    "2": "30574"
                                },
                                {
                                    "0": "Running with Scissors",
                                    "1": "147245",
                                    "2": "30574"
                                },
                                {
                                    "0": "Dark Lover (Black Dagger Brotherhood, #1)",
                                    "1": "147190",
                                    "2": "30574"
                                }
                            ]
                        },
                        "text/html": [
                            "<table>",
                            "<tr><th>title</th><th>count</th><th>tag_id</th></tr>",
                            "<tr><td>The Alchemist</td><td>596234</td><td>30574</td></tr>",
                            "<tr><td>The Girl with the Dragon Tattoo (Millennium, #1)</td><td>586235</td><td>30574</td></tr>",
                            "<tr><td>All the Light We Cannot See</td><td>505884</td><td>30574</td></tr>",
                            "<tr><td>Harry Potter and the Sorcerer's Stone (Harry Potter, #1)</td><td>496107</td><td>30574</td></tr>",
                            "<tr><td>Les Misérables</td><td>488469</td><td>30574</td></tr>",
                            "<tr><td>Cinder (The Lunar Chronicles, #1)</td><td>474954</td><td>30574</td></tr>",
                            "<tr><td>Catch-22</td><td>465640</td><td>30574</td></tr>",
                            "<tr><td>Gone with the Wind</td><td>454565</td><td>30574</td></tr>",
                            "<tr><td>Slaughterhouse-Five</td><td>443942</td><td>30574</td></tr>",
                            "<tr><td>A Tale of Two Cities</td><td>402942</td><td>30574</td></tr>",
                            "<tr><td>The Maze Runner (Maze Runner, #1)</td><td>380255</td><td>30574</td></tr>",
                            "<tr><td>If I Stay (If I Stay, #1)</td><td>378509</td><td>30574</td></tr>",
                            "<tr><td>The Picture of Dorian Gray</td><td>358381</td><td>30574</td></tr>",
                            "<tr><td>The Handmaid's Tale</td><td>348218</td><td>30574</td></tr>",
                            "<tr><td>Little Women (Little Women, #1)</td><td>345105</td><td>30574</td></tr>",
                            "<tr><td>Bossypants</td><td>332278</td><td>30574</td></tr>",
                            "<tr><td>The Tipping Point: How Little Things Can Make a Big Difference</td><td>320295</td><td>30574</td></tr>",
                            "<tr><td>Room</td><td>302652</td><td>30574</td></tr>",
                            "<tr><td>Middlesex</td><td>299006</td><td>30574</td></tr>",
                            "<tr><td>Dracula</td><td>287576</td><td>30574</td></tr>",
                            "<tr><td>The Secret Life of Bees</td><td>286899</td><td>30574</td></tr>",
                            "<tr><td>Yes Please</td><td>286059</td><td>30574</td></tr>",
                            "<tr><td>The Name of the Wind (The Kingkiller Chronicle, #1)</td><td>283253</td><td>30574</td></tr>",
                            "<tr><td>The 7 Habits of Highly Effective People: Powerful Lessons in Personal Change</td><td>283148</td><td>30574</td></tr>",
                            "<tr><td>Romeo and Juliet</td><td>279627</td><td>30574</td></tr>",
                            "<tr><td>Ender's Game (Ender's Saga, #1)</td><td>277113</td><td>30574</td></tr>",
                            "<tr><td>The Golden Compass (His Dark Materials, #1)</td><td>276683</td><td>30574</td></tr>",
                            "<tr><td>The Nightingale</td><td>275551</td><td>30574</td></tr>",
                            "<tr><td>The 5th Wave (The 5th Wave, #1)</td><td>271738</td><td>30574</td></tr>",
                            "<tr><td>War and Peace</td><td>271642</td><td>30574</td></tr>",
                            "<tr><td>The Glass Castle</td><td>260535</td><td>30574</td></tr>",
                            "<tr><td>Daughter of Smoke &amp; Bone (Daughter of Smoke &amp; Bone, #1)</td><td>255961</td><td>30574</td></tr>",
                            "<tr><td>Moby-Dick or, The Whale</td><td>255686</td><td>30574</td></tr>",
                            "<tr><td>In the Woods (Dublin Murder Squad, #1)</td><td>249532</td><td>30574</td></tr>",
                            "<tr><td>Harry Potter and the Cursed Child - Parts One and Two (Harry Potter, #8)</td><td>248603</td><td>30574</td></tr>",
                            "<tr><td>Wonder</td><td>248197</td><td>30574</td></tr>",
                            "<tr><td>Ready Player One</td><td>244228</td><td>30574</td></tr>",
                            "<tr><td>The Cuckoo's Calling (Cormoran Strike, #1)</td><td>241339</td><td>30574</td></tr>",
                            "<tr><td>Is Everyone Hanging Out Without Me? (And Other Concerns)</td><td>240537</td><td>30574</td></tr>",
                            "<tr><td>And Then There Were None</td><td>238965</td><td>30574</td></tr>",
                            "<tr><td>The Odyssey</td><td>238730</td><td>30574</td></tr>",
                            "<tr><td>Dune (Dune Chronicles #1)</td><td>232155</td><td>30574</td></tr>",
                            "<tr><td>In Cold Blood</td><td>231340</td><td>30574</td></tr>",
                            "<tr><td>A Wrinkle in Time (A Wrinkle in Time Quintet, #1)</td><td>228455</td><td>30574</td></tr>",
                            "<tr><td>Great Expectations</td><td>227548</td><td>30574</td></tr>",
                            "<tr><td>Allegiant (Divergent, #3)</td><td>225359</td><td>30574</td></tr>",
                            "<tr><td>Graceling (Graceling Realm, #1)</td><td>222895</td><td>30574</td></tr>",
                            "<tr><td>The Secret Garden</td><td>222156</td><td>30574</td></tr>",
                            "<tr><td>A Tree Grows in Brooklyn</td><td>220839</td><td>30574</td></tr>",
                            "<tr><td>Persuasion</td><td>220502</td><td>30574</td></tr>",
                            "<tr><td>Across the Universe (Across the Universe, #1)</td><td>211797</td><td>30574</td></tr>",
                            "<tr><td>The Raven Boys (The Raven Cycle, #1)</td><td>208617</td><td>30574</td></tr>",
                            "<tr><td>11/22/63</td><td>206727</td><td>30574</td></tr>",
                            "<tr><td>The Light Between Oceans</td><td>205604</td><td>30574</td></tr>",
                            "<tr><td>Insurgent (Divergent, #2)</td><td>204393</td><td>30574</td></tr>",
                            "<tr><td>Perfect Chemistry (Perfect Chemistry, #1)</td><td>203586</td><td>30574</td></tr>",
                            "<tr><td>It's Kind of a Funny Story</td><td>202218</td><td>30574</td></tr>",
                            "<tr><td>Will Grayson, Will Grayson</td><td>201350</td><td>30574</td></tr>",
                            "<tr><td>Six of Crows (Six of Crows, #1)</td><td>198698</td><td>30574</td></tr>",
                            "<tr><td>Man's Search for Meaning</td><td>198532</td><td>30574</td></tr>",
                            "<tr><td>My Sister's Keeper</td><td>197630</td><td>30574</td></tr>",
                            "<tr><td>Red Rising (Red Rising, #1)</td><td>191615</td><td>30574</td></tr>",
                            "<tr><td>The Shadow of the Wind (The Cemetery of Forgotten Books,  #1)</td><td>190891</td><td>30574</td></tr>",
                            "<tr><td>A Court of Thorns and Roses (A Court of Thorns and Roses, #1)</td><td>188981</td><td>30574</td></tr>",
                            "<tr><td>Unwind (Unwind, #1)</td><td>187025</td><td>30574</td></tr>",
                            "<tr><td>When Breath Becomes Air</td><td>184635</td><td>30574</td></tr>",
                            "<tr><td>The Boy in the Striped Pajamas</td><td>182087</td><td>30574</td></tr>",
                            "<tr><td>The Giving Tree</td><td>181787</td><td>30574</td></tr>",
                            "<tr><td>The Underground Railroad</td><td>177759</td><td>30574</td></tr>",
                            "<tr><td>Girl with a Pearl Earring</td><td>177278</td><td>30574</td></tr>",
                            "<tr><td>Stardust</td><td>177061</td><td>30574</td></tr>",
                            "<tr><td>Everything, Everything</td><td>175234</td><td>30574</td></tr>",
                            "<tr><td>Speak</td><td>175206</td><td>30574</td></tr>",
                            "<tr><td>The Devil Wears Prada (The Devil Wears Prada, #1)</td><td>173514</td><td>30574</td></tr>",
                            "<tr><td>John Adams</td><td>172823</td><td>30574</td></tr>",
                            "<tr><td>Three Cups of Tea: One Man's Mission to Promote Peace ... One School at a Time</td><td>171855</td><td>30574</td></tr>",
                            "<tr><td>City of Heavenly Fire (The Mortal Instruments, #6)</td><td>171251</td><td>30574</td></tr>",
                            "<tr><td>The Unbearable Lightness of Being</td><td>170503</td><td>30574</td></tr>",
                            "<tr><td>Easy (Contours of the Heart, #1)</td><td>170119</td><td>30574</td></tr>",
                            "<tr><td>The Stand</td><td>168898</td><td>30574</td></tr>",
                            "<tr><td>Harry Potter and the Half-Blood Prince (Harry Potter, #6)</td><td>167697</td><td>30574</td></tr>",
                            "<tr><td>Attachments</td><td>167644</td><td>30574</td></tr>",
                            "<tr><td>A People's History of the United States</td><td>166850</td><td>30574</td></tr>",
                            "<tr><td>Siddhartha</td><td>166101</td><td>30574</td></tr>",
                            "<tr><td>Station Eleven</td><td>165591</td><td>30574</td></tr>",
                            "<tr><td>A Dance with Dragons (A Song of Ice and Fire, #5)</td><td>163132</td><td>30574</td></tr>",
                            "<tr><td>Cat's Cradle</td><td>161030</td><td>30574</td></tr>",
                            "<tr><td>House of Leaves</td><td>160824</td><td>30574</td></tr>",
                            "<tr><td>My Life Next Door</td><td>160518</td><td>30574</td></tr>",
                            "<tr><td>All the Ugly and Wonderful Things</td><td>159524</td><td>30574</td></tr>",
                            "<tr><td>1Q84</td><td>158754</td><td>30574</td></tr>",
                            "<tr><td>Dear John</td><td>158655</td><td>30574</td></tr>",
                            "<tr><td>Clockwork Prince (The Infernal Devices, #2)</td><td>156839</td><td>30574</td></tr>",
                            "<tr><td>Inferno (Robert Langdon, #4)</td><td>155961</td><td>30574</td></tr>",
                            "<tr><td>On the Road</td><td>155810</td><td>30574</td></tr>",
                            "<tr><td>The Time Machine</td><td>155806</td><td>30574</td></tr>",
                            "<tr><td>City of Ashes (The Mortal Instruments, #2)</td><td>149747</td><td>30574</td></tr>",
                            "<tr><td>Orphan Train</td><td>147588</td><td>30574</td></tr>",
                            "<tr><td>Running with Scissors</td><td>147245</td><td>30574</td></tr>",
                            "<tr><td>Dark Lover (Black Dagger Brotherhood, #1)</td><td>147190</td><td>30574</td></tr>",
                            "</table>"
                        ]
                    }
                },
                {
                    "output_type": "execute_result",
                    "metadata": {},
                    "execution_count": 5,
                    "data": {
                        "application/vnd.dataresource+json": {
                            "schema": {
                                "fields": [
                                    {
                                        "name": "title"
                                    },
                                    {
                                        "name": "count"
                                    },
                                    {
                                        "name": "tag_id"
                                    }
                                ]
                            },
                            "data": [
                                {
                                    "0": "The Alchemist",
                                    "1": "596234",
                                    "2": "30574"
                                },
                                {
                                    "0": "The Alchemist",
                                    "1": "26269",
                                    "2": "8717"
                                },
                                {
                                    "0": "The Alchemist",
                                    "1": "9712",
                                    "2": "11743"
                                },
                                {
                                    "0": "The Alchemist",
                                    "1": "8698",
                                    "2": "11557"
                                },
                                {
                                    "0": "The Alchemist",
                                    "1": "3089",
                                    "2": "7457"
                                }
                            ]
                        },
                        "text/html": [
                            "<table>",
                            "<tr><th>title</th><th>count</th><th>tag_id</th></tr>",
                            "<tr><td>The Alchemist</td><td>596234</td><td>30574</td></tr>",
                            "<tr><td>The Alchemist</td><td>26269</td><td>8717</td></tr>",
                            "<tr><td>The Alchemist</td><td>9712</td><td>11743</td></tr>",
                            "<tr><td>The Alchemist</td><td>8698</td><td>11557</td></tr>",
                            "<tr><td>The Alchemist</td><td>3089</td><td>7457</td></tr>",
                            "</table>"
                        ]
                    }
                },
                {
                    "output_type": "execute_result",
                    "metadata": {},
                    "execution_count": 5,
                    "data": {
                        "application/vnd.dataresource+json": {
                            "schema": {
                                "fields": [
                                    {
                                        "name": "tag_name"
                                    }
                                ]
                            },
                            "data": [
                                {
                                    "0": "to-read"
                                }
                            ]
                        },
                        "text/html": [
                            "<table>",
                            "<tr><th>tag_name</th></tr>",
                            "<tr><td>to-read</td></tr>",
                            "</table>"
                        ]
                    }
                }
            ],
            "execution_count": 5
        },
        {
            "cell_type": "code",
            "source": [
                "-- Using the tag_name and tags tables, pick a tag and explore how many times it has been used.  \n",
                "\n",
                "-- tag suggestions:\n",
                "    -- %baking% 22 tags\n",
                "    -- %coding%% 1 tag\n",
                "    -- %giraffes%% 2 tags\n",
                "    -- %halloween% 8 tags\n",
                "    -- %fiction% 826 tags\n",
                "    -- %nonfiction% 103 tags\n",
                "    -- %philosophy% 94 tags\n",
                "\n",
                "SELECT * \n",
                "FROM BooksDB.dbo.tags\n",
                "WHERE tag_name LIKE '%halloween%' \n",
                "-- halloween, halloween-books, halloween-reading, halloween-reads, halloween-storytime, holiday-halloween, holidays-halloween, spooky-reads-for-halloween\n",
                "-- i like the 'halloween-storytime' tag: 13877\n",
                "\n",
                "-- Find the book with the most tags that you selected\n",
                "SELECT b.title, bt.[count], bt.tag_id\n",
                "FROM BooksDB.dbo.books AS b\n",
                "INNER JOIN BooksDB.dbo.book_tags AS bt\n",
                "ON bt.goodreads_book_id = b.best_book_id\n",
                "WHERE bt.tag_id = 13877; --(halloween-storytime)\n",
                "-- The Little Old Lady Who Was Not Afraid of Anything\n",
                "-- WHERE bt.tag_id = 13873 --(halloween)\n",
                "-- ORDER BY bt.[count] DESC;\n",
                "-- The Little Old Lady Who Was Not Afraid of Anything (63 tags)"
            ],
            "metadata": {
                "azdata_cell_guid": "c4b0b67c-7cfa-4f52-be97-ffe5cc28ed54",
                "tags": []
            },
            "outputs": [
                {
                    "output_type": "display_data",
                    "data": {
                        "text/html": "(8 rows affected)"
                    },
                    "metadata": {}
                },
                {
                    "output_type": "display_data",
                    "data": {
                        "text/html": "(1 row affected)"
                    },
                    "metadata": {}
                },
                {
                    "output_type": "display_data",
                    "data": {
                        "text/html": "Total execution time: 00:00:00.271"
                    },
                    "metadata": {}
                },
                {
                    "output_type": "execute_result",
                    "metadata": {},
                    "execution_count": 8,
                    "data": {
                        "application/vnd.dataresource+json": {
                            "schema": {
                                "fields": [
                                    {
                                        "name": "tag_id"
                                    },
                                    {
                                        "name": "tag_name"
                                    }
                                ]
                            },
                            "data": [
                                {
                                    "0": "13873",
                                    "1": "halloween"
                                },
                                {
                                    "0": "13874",
                                    "1": "halloween-books"
                                },
                                {
                                    "0": "13875",
                                    "1": "halloween-reading"
                                },
                                {
                                    "0": "13876",
                                    "1": "halloween-reads"
                                },
                                {
                                    "0": "13877",
                                    "1": "halloween-storytime"
                                },
                                {
                                    "0": "14698",
                                    "1": "holiday-halloween"
                                },
                                {
                                    "0": "14706",
                                    "1": "holidays-halloween"
                                },
                                {
                                    "0": "28416",
                                    "1": "spooky-reads-for-halloween"
                                }
                            ]
                        },
                        "text/html": [
                            "<table>",
                            "<tr><th>tag_id</th><th>tag_name</th></tr>",
                            "<tr><td>13873</td><td>halloween</td></tr>",
                            "<tr><td>13874</td><td>halloween-books</td></tr>",
                            "<tr><td>13875</td><td>halloween-reading</td></tr>",
                            "<tr><td>13876</td><td>halloween-reads</td></tr>",
                            "<tr><td>13877</td><td>halloween-storytime</td></tr>",
                            "<tr><td>14698</td><td>holiday-halloween</td></tr>",
                            "<tr><td>14706</td><td>holidays-halloween</td></tr>",
                            "<tr><td>28416</td><td>spooky-reads-for-halloween</td></tr>",
                            "</table>"
                        ]
                    }
                },
                {
                    "output_type": "execute_result",
                    "metadata": {},
                    "execution_count": 8,
                    "data": {
                        "application/vnd.dataresource+json": {
                            "schema": {
                                "fields": [
                                    {
                                        "name": "title"
                                    },
                                    {
                                        "name": "count"
                                    },
                                    {
                                        "name": "tag_id"
                                    }
                                ]
                            },
                            "data": [
                                {
                                    "0": "The Little Old Lady Who Was Not Afraid of Anything",
                                    "1": "4",
                                    "2": "13877"
                                }
                            ]
                        },
                        "text/html": [
                            "<table>",
                            "<tr><th>title</th><th>count</th><th>tag_id</th></tr>",
                            "<tr><td>The Little Old Lady Who Was Not Afraid of Anything</td><td>4</td><td>13877</td></tr>",
                            "</table>"
                        ]
                    }
                }
            ],
            "execution_count": 8
        },
        {
            "cell_type": "code",
            "source": [
                "-- Using the to_read table with the book table \n",
                "-- Which users have the most books on their \"to read\" list?\n",
                "SELECT TOP 5 COUNT(b.title) AS NumToRead, tr.user_id\n",
                "FROM BooksDB.dbo.books AS b\n",
                "INNER JOIN BooksDB.dbo.to_read AS tr\n",
                "ON b.book_id = tr.book_id\n",
                "GROUP BY tr.user_id\n",
                "ORDER BY NumToRead DESC;\n",
                "\n",
                "-- Pick a user and print the titles for their to-read list\n",
                "SELECT TOP 15 b.title AS ToReadList\n",
                "FROM BooksDB.dbo.books AS b\n",
                "INNER JOIN BooksDB.dbo.to_read AS tr\n",
                "ON b.book_id = tr.book_id\n",
                "WHERE tr.user_id = 12483\n",
                "\n",
                "-- WHAT ARE THE TOP TEN MOST POPULAR BOOK TITLE ON THE TO READ LIST?  \n",
                "SELECT TOP 10 COUNT(tr.user_id) AS NumToRead, b.title\n",
                "FROM BooksDB.dbo.books AS b\n",
                "INNER JOIN BooksDB.dbo.to_read AS tr\n",
                "ON b.book_id = tr.book_id\n",
                "GROUP BY b.title \n",
                "ORDER BY NumToRead DESC;"
            ],
            "metadata": {
                "azdata_cell_guid": "c6c815f8-890d-4163-be63-3d300e320597"
            },
            "outputs": [
                {
                    "output_type": "display_data",
                    "data": {
                        "text/html": "(5 rows affected)"
                    },
                    "metadata": {}
                },
                {
                    "output_type": "display_data",
                    "data": {
                        "text/html": "(15 rows affected)"
                    },
                    "metadata": {}
                },
                {
                    "output_type": "display_data",
                    "data": {
                        "text/html": "(10 rows affected)"
                    },
                    "metadata": {}
                },
                {
                    "output_type": "display_data",
                    "data": {
                        "text/html": "Total execution time: 00:00:00.965"
                    },
                    "metadata": {}
                },
                {
                    "output_type": "execute_result",
                    "metadata": {},
                    "execution_count": 24,
                    "data": {
                        "application/vnd.dataresource+json": {
                            "schema": {
                                "fields": [
                                    {
                                        "name": "NumToRead"
                                    },
                                    {
                                        "name": "user_id"
                                    }
                                ]
                            },
                            "data": [
                                {
                                    "0": "15",
                                    "1": "11932"
                                },
                                {
                                    "0": "15",
                                    "1": "12483"
                                },
                                {
                                    "0": "15",
                                    "1": "38201"
                                },
                                {
                                    "0": "15",
                                    "1": "14771"
                                },
                                {
                                    "0": "14",
                                    "1": "41523"
                                }
                            ]
                        },
                        "text/html": [
                            "<table>",
                            "<tr><th>NumToRead</th><th>user_id</th></tr>",
                            "<tr><td>15</td><td>11932</td></tr>",
                            "<tr><td>15</td><td>12483</td></tr>",
                            "<tr><td>15</td><td>38201</td></tr>",
                            "<tr><td>15</td><td>14771</td></tr>",
                            "<tr><td>14</td><td>41523</td></tr>",
                            "</table>"
                        ]
                    }
                },
                {
                    "output_type": "execute_result",
                    "metadata": {},
                    "execution_count": 24,
                    "data": {
                        "application/vnd.dataresource+json": {
                            "schema": {
                                "fields": [
                                    {
                                        "name": "ToReadList"
                                    }
                                ]
                            },
                            "data": [
                                {
                                    "0": "Fahrenheit 451"
                                },
                                {
                                    "0": "Hamlet"
                                },
                                {
                                    "0": "Great Expectations"
                                },
                                {
                                    "0": "Madame Bovary"
                                },
                                {
                                    "0": "A Room with a View"
                                },
                                {
                                    "0": "Cryptonomicon"
                                },
                                {
                                    "0": "The Complete Sherlock Holmes, Vol 2"
                                },
                                {
                                    "0": "Tropic of Cancer"
                                },
                                {
                                    "0": "The New York Trilogy"
                                },
                                {
                                    "0": "Metamorphoses"
                                },
                                {
                                    "0": "Founding Brothers: The Revolutionary Generation"
                                },
                                {
                                    "0": "Peter and the Shadow Thieves (Peter and the Starcatchers, #2)"
                                },
                                {
                                    "0": "The Salmon of Doubt (Dirk Gently, #3)"
                                },
                                {
                                    "0": "Jailbird"
                                },
                                {
                                    "0": "The Broken Wings"
                                }
                            ]
                        },
                        "text/html": [
                            "<table>",
                            "<tr><th>ToReadList</th></tr>",
                            "<tr><td>Fahrenheit 451</td></tr>",
                            "<tr><td>Hamlet</td></tr>",
                            "<tr><td>Great Expectations</td></tr>",
                            "<tr><td>Madame Bovary</td></tr>",
                            "<tr><td>A Room with a View</td></tr>",
                            "<tr><td>Cryptonomicon</td></tr>",
                            "<tr><td>The Complete Sherlock Holmes, Vol 2</td></tr>",
                            "<tr><td>Tropic of Cancer</td></tr>",
                            "<tr><td>The New York Trilogy</td></tr>",
                            "<tr><td>Metamorphoses</td></tr>",
                            "<tr><td>Founding Brothers: The Revolutionary Generation</td></tr>",
                            "<tr><td>Peter and the Shadow Thieves (Peter and the Starcatchers, #2)</td></tr>",
                            "<tr><td>The Salmon of Doubt (Dirk Gently, #3)</td></tr>",
                            "<tr><td>Jailbird</td></tr>",
                            "<tr><td>The Broken Wings</td></tr>",
                            "</table>"
                        ]
                    }
                },
                {
                    "output_type": "execute_result",
                    "metadata": {},
                    "execution_count": 24,
                    "data": {
                        "application/vnd.dataresource+json": {
                            "schema": {
                                "fields": [
                                    {
                                        "name": "NumToRead"
                                    },
                                    {
                                        "name": "title"
                                    }
                                ]
                            },
                            "data": [
                                {
                                    "0": "1812",
                                    "1": "The Ultimate Hitchhiker's Guide to the Galaxy"
                                },
                                {
                                    "0": "1767",
                                    "1": "The Hitchhiker's Guide to the Galaxy (Hitchhiker's Guide to the Galaxy, #1)"
                                },
                                {
                                    "0": "1499",
                                    "1": "The Lord of the Rings: The Art of The Fellowship of the Ring"
                                },
                                {
                                    "0": "1498",
                                    "1": "Harry Potter Boxed Set, Books 1-5 (Harry Potter, #1-5)"
                                },
                                {
                                    "0": "1484",
                                    "1": "Harry Potter and the Goblet of Fire (Harry Potter, #4)"
                                },
                                {
                                    "0": "1352",
                                    "1": "The Known World"
                                },
                                {
                                    "0": "1293",
                                    "1": "Harry Potter and the Prisoner of Azkaban (Harry Potter, #3)"
                                },
                                {
                                    "0": "1211",
                                    "1": "The Lord of the Rings: Weapons and Warfare"
                                },
                                {
                                    "0": "1148",
                                    "1": "Notes from a Small Island"
                                },
                                {
                                    "0": "1110",
                                    "1": "Harry Potter Collection (Harry Potter, #1-6)"
                                }
                            ]
                        },
                        "text/html": [
                            "<table>",
                            "<tr><th>NumToRead</th><th>title</th></tr>",
                            "<tr><td>1812</td><td>The Ultimate Hitchhiker's Guide to the Galaxy</td></tr>",
                            "<tr><td>1767</td><td>The Hitchhiker's Guide to the Galaxy (Hitchhiker's Guide to the Galaxy, #1)</td></tr>",
                            "<tr><td>1499</td><td>The Lord of the Rings: The Art of The Fellowship of the Ring</td></tr>",
                            "<tr><td>1498</td><td>Harry Potter Boxed Set, Books 1-5 (Harry Potter, #1-5)</td></tr>",
                            "<tr><td>1484</td><td>Harry Potter and the Goblet of Fire (Harry Potter, #4)</td></tr>",
                            "<tr><td>1352</td><td>The Known World</td></tr>",
                            "<tr><td>1293</td><td>Harry Potter and the Prisoner of Azkaban (Harry Potter, #3)</td></tr>",
                            "<tr><td>1211</td><td>The Lord of the Rings: Weapons and Warfare</td></tr>",
                            "<tr><td>1148</td><td>Notes from a Small Island</td></tr>",
                            "<tr><td>1110</td><td>Harry Potter Collection (Harry Potter, #1-6)</td></tr>",
                            "</table>"
                        ]
                    }
                }
            ],
            "execution_count": 24
        }
    ]
}