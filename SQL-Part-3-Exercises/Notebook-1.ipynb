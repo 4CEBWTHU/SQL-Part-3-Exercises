{
    "metadata": {
        "kernelspec": {
            "name": "SQL",
            "display_name": "SQL",
            "language": "sql"
        },
        "language_info": {
            "name": "sql",
            "version": ""
        },
        "extensions": {
            "azuredatastudio": {
                "version": 1,
                "views": []
            }
        }
    },
    "nbformat_minor": 2,
    "nbformat": 4,
    "cells": [
        {
            "cell_type": "markdown",
            "source": [
                "SQL Part 3 Exercises -- BooksDB"
            ],
            "metadata": {
                "azdata_cell_guid": "db9534a9-c8a7-4c09-8180-bcba0690bb02"
            },
            "attachments": {}
        },
        {
            "cell_type": "markdown",
            "source": [
                "TO\\_READ table:\n",
                "\n",
                "- user\\_id, book\\_id\n",
                "\n",
                "BOOK table:\n",
                "\n",
                "- id, book\\_id, best\\_book\\_id, work\\_id, book\\_counts, isbn, isbn13, authors, original\\_publication\\_year, original\\_title, title, language\\_code, average\\_rating, ratings\\_count, work\\_ratings\\_count, work\\_text\\_reviews\\_count, ratings\\_1-5, small and large image urls\n",
                "\n",
                "RATINGS\n",
                "\n",
                "- book\\_id, user\\_id, rating"
            ],
            "metadata": {
                "azdata_cell_guid": "344e18d1-578f-4e24-9c41-f69f697cc727"
            },
            "attachments": {}
        },
        {
            "cell_type": "markdown",
            "source": [
                "Practice Joins\n",
                "\n",
                "- Have the students run all 4 and explain the differences between how they are organized\n",
                "- What happens when we remove nulls from a particular column?"
            ],
            "metadata": {
                "azdata_cell_guid": "73a8196e-46de-4750-a1e7-0b484ffd5b38"
            },
            "attachments": {}
        },
        {
            "cell_type": "markdown",
            "source": [
                "## QUESTION 1:  Exploring a LEFT JOIN using the **books** and **to\\_read** tables\n",
                "\n",
                "The code block below has been commented out. To answer this question, you will need to uncomment it by removing the **/\\*** (line 1) and **\\*/** (line 16).\n",
                "\n",
                "**Part A:** Look at Query 1, which table is the 'Left' table and which is the 'Right'?\n",
                "\n",
                "> Your Answer: \n",
                "\n",
                "**Part B:** Using table 2, answer the following questions: \n",
                "\n",
                "- When we added a  '**WHERE tr.user\\_id IS NOT NULL'** clause (line 14), how did the table change?  Why?\n",
                "\n",
                "> Your Answer:"
            ],
            "metadata": {
                "azdata_cell_guid": "660be568-9a70-40ff-a2fa-a78e31e87b6f"
            },
            "attachments": {}
        },
        {
            "cell_type": "code",
            "source": [
                "/*\n",
                "-- Query 1: LEFT JOIN \n",
                "SELECT TOP 50 b.title, b.average_rating, b.books_count,tr.user_id, tr.book_id\n",
                "FROM BooksDB.dbo.books AS b\n",
                "LEFT JOIN BooksDB.dbo.to_read AS tr\n",
                "ON b.book_id = tr.book_id\n",
                "ORDER BY b.average_rating;\n",
                "\n",
                "-- Query 2: LEFT JOIN USING 'IS NOT NULL'\n",
                "SELECT TOP 50 b.title, b.average_rating, b.books_count,tr.user_id, tr.book_id\n",
                "FROM BooksDB.dbo.books AS b\n",
                "LEFT JOIN BooksDB.dbo.to_read AS tr\n",
                "ON b.book_id = tr.book_id\n",
                "WHERE tr.user_id IS NOT NULL\n",
                "ORDER BY b.average_rating;\n",
                "*/"
            ],
            "metadata": {
                "azdata_cell_guid": "25dcd34c-5e5d-4393-9da0-a4c0effb6455",
                "tags": []
            },
            "outputs": [
                {
                    "output_type": "display_data",
                    "data": {
                        "text/html": "Commands completed successfully."
                    },
                    "metadata": {}
                },
                {
                    "output_type": "display_data",
                    "data": {
                        "text/html": "Total execution time: 00:00:00.088"
                    },
                    "metadata": {}
                }
            ],
            "execution_count": 1
        },
        {
            "cell_type": "markdown",
            "source": [
                "## QUESTION 2: Exploring **RIGHT** joins with the **books** and **to\\_read** tables\n",
                "\n",
                "You will need to uncomment Query 1 and 2 to answer the question.\n",
                "\n",
                "**Part A:** Looking at query 1, which table is the 'Left' and which is the 'Right'?\n",
                "\n",
                "> Your Answer:\n",
                "\n",
                "**Part B:** How did the 'IS NOT NULL' affect the query output in query 2? \n",
                "\n",
                "> Your Answer:\n",
                "\n",
                "**Part C:** Update the Where clause to the following: **'WHERE tr.book\\_id IS NOT NULL'**.  What happened?  Why?\n",
                "\n",
                "> Your Answer:"
            ],
            "metadata": {
                "azdata_cell_guid": "c1e417d9-89d2-4a7d-ab46-b43c8bddc54f"
            },
            "attachments": {}
        },
        {
            "cell_type": "code",
            "source": [
                "/*\n",
                "-- Query 1: RIGHT JOIN\n",
                "SELECT TOP 10 b.title, b.average_rating, b.books_count,tr.user_id, tr.book_id\n",
                "FROM BooksDB.dbo.books AS b\n",
                "RIGHT JOIN BooksDB.dbo.to_read AS tr\n",
                "ON b.book_id = tr.book_id\n",
                "ORDER BY tr.user_id;\n",
                "\n",
                "-- Query 2: RIGHT JOIN using 'IS NOT NULL'\n",
                "SELECT TOP 10 b.title, b.average_rating, b.books_count,tr.user_id, tr.book_id\n",
                "FROM BooksDB.dbo.books AS b\n",
                "RIGHT JOIN BooksDB.dbo.to_read AS tr\n",
                "ON b.book_id = tr.book_id\n",
                "WHERE b.average_rating IS NOT NULL\n",
                "ORDER BY tr.user_id;\n",
                "*/"
            ],
            "metadata": {
                "azdata_cell_guid": "8cf020b8-2a76-46a6-acff-97eb1acc7fed",
                "tags": []
            },
            "outputs": [
                {
                    "output_type": "display_data",
                    "data": {
                        "text/html": "Commands completed successfully."
                    },
                    "metadata": {}
                },
                {
                    "output_type": "display_data",
                    "data": {
                        "text/html": "Total execution time: 00:00:00.052"
                    },
                    "metadata": {}
                }
            ],
            "execution_count": 2
        },
        {
            "cell_type": "markdown",
            "source": [
                "## QUESTION 3: Exploring FULL JOINS with the **books** and **to\\_read** tables\n",
                "\n",
                "You will need to uncomment Query 1 to answer the question.\n",
                "\n",
                "**Part A:**  Explain how this join is created.  Which table is Left? Which is right? How is it populated?\n",
                "\n",
                "> Your Answer:"
            ],
            "metadata": {
                "azdata_cell_guid": "8f6b8f22-3e5a-4b87-a2f2-07279f1deb94"
            },
            "attachments": {}
        },
        {
            "cell_type": "code",
            "source": [
                "-- FULL JOIN\n",
                "SELECT TOP 10 b.title, b.average_rating, b.books_count,tr.user_id, tr.book_id\n",
                "FROM BooksDB.dbo.books AS b\n",
                "FULL JOIN BooksDB.dbo.to_read AS tr\n",
                "ON b.book_id = tr.book_id\n",
                "ORDER BY tr.user_id;"
            ],
            "metadata": {
                "azdata_cell_guid": "7c2a3dff-ef55-4222-aef0-7c0ab4f942eb",
                "tags": []
            },
            "outputs": [
                {
                    "output_type": "display_data",
                    "data": {
                        "text/html": "(10 rows affected)"
                    },
                    "metadata": {}
                },
                {
                    "output_type": "display_data",
                    "data": {
                        "text/html": "Total execution time: 00:01:35.072"
                    },
                    "metadata": {}
                },
                {
                    "output_type": "execute_result",
                    "metadata": {},
                    "execution_count": 12,
                    "data": {
                        "application/vnd.dataresource+json": {
                            "schema": {
                                "fields": [
                                    {
                                        "name": "title"
                                    },
                                    {
                                        "name": "average_rating"
                                    },
                                    {
                                        "name": "books_count"
                                    },
                                    {
                                        "name": "user_id"
                                    },
                                    {
                                        "name": "book_id"
                                    }
                                ]
                            },
                            "data": [
                                {
                                    "0": "A Good Man is Hard to Find and Other Stories",
                                    "1": "4.24",
                                    "2": "1",
                                    "3": "NULL",
                                    "4": "NULL"
                                },
                                {
                                    "0": "Andy Goldsworthy: A Collaboration with Nature",
                                    "1": "3.95",
                                    "2": "1",
                                    "3": "NULL",
                                    "4": "NULL"
                                },
                                {
                                    "0": "As You Wish: Inconceivable Tales from the Making of The Princess Bride",
                                    "1": "4.08",
                                    "2": "1",
                                    "3": "NULL",
                                    "4": "NULL"
                                },
                                {
                                    "0": "At Bertram's Hotel (Miss Marple, #11)",
                                    "1": "3.7",
                                    "2": "1",
                                    "3": "NULL",
                                    "4": "NULL"
                                },
                                {
                                    "0": "BookRags Summary:  A Storm of Swords",
                                    "1": "4.59",
                                    "2": "1",
                                    "3": "NULL",
                                    "4": "NULL"
                                },
                                {
                                    "0": "Carry on, Jeeves (Jeeves, #3)",
                                    "1": "4.28",
                                    "2": "1",
                                    "3": "NULL",
                                    "4": "NULL"
                                },
                                {
                                    "0": "Cold Fire / Hideaway / The Key to Midnight",
                                    "1": "4.16",
                                    "2": "1",
                                    "3": "NULL",
                                    "4": "NULL"
                                },
                                {
                                    "0": "Come Away with Me (With Me in Seattle, #1)",
                                    "1": "3.94",
                                    "2": "1",
                                    "3": "NULL",
                                    "4": "NULL"
                                },
                                {
                                    "0": "Feverborn (Fever, #8)",
                                    "1": "4.18",
                                    "2": "1",
                                    "3": "NULL",
                                    "4": "NULL"
                                },
                                {
                                    "0": "FRUiTS",
                                    "1": "3.94",
                                    "2": "1",
                                    "3": "NULL",
                                    "4": "NULL"
                                }
                            ]
                        },
                        "text/html": [
                            "<table>",
                            "<tr><th>title</th><th>average_rating</th><th>books_count</th><th>user_id</th><th>book_id</th></tr>",
                            "<tr><td>A Good Man is Hard to Find and Other Stories</td><td>4.24</td><td>1</td><td>NULL</td><td>NULL</td></tr>",
                            "<tr><td>Andy Goldsworthy: A Collaboration with Nature</td><td>3.95</td><td>1</td><td>NULL</td><td>NULL</td></tr>",
                            "<tr><td>As You Wish: Inconceivable Tales from the Making of The Princess Bride</td><td>4.08</td><td>1</td><td>NULL</td><td>NULL</td></tr>",
                            "<tr><td>At Bertram's Hotel (Miss Marple, #11)</td><td>3.7</td><td>1</td><td>NULL</td><td>NULL</td></tr>",
                            "<tr><td>BookRags Summary:  A Storm of Swords</td><td>4.59</td><td>1</td><td>NULL</td><td>NULL</td></tr>",
                            "<tr><td>Carry on, Jeeves (Jeeves, #3)</td><td>4.28</td><td>1</td><td>NULL</td><td>NULL</td></tr>",
                            "<tr><td>Cold Fire / Hideaway / The Key to Midnight</td><td>4.16</td><td>1</td><td>NULL</td><td>NULL</td></tr>",
                            "<tr><td>Come Away with Me (With Me in Seattle, #1)</td><td>3.94</td><td>1</td><td>NULL</td><td>NULL</td></tr>",
                            "<tr><td>Feverborn (Fever, #8)</td><td>4.18</td><td>1</td><td>NULL</td><td>NULL</td></tr>",
                            "<tr><td>FRUiTS</td><td>3.94</td><td>1</td><td>NULL</td><td>NULL</td></tr>",
                            "</table>"
                        ]
                    }
                }
            ],
            "execution_count": 12
        },
        {
            "cell_type": "code",
            "source": [
                "-- INNER JOIN\n",
                "SELECT TOP 30 b.title, b.average_rating, b.books_count,tr.user_id, tr.book_id\n",
                "FROM BooksDB.dbo.books AS b\n",
                "INNER JOIN BooksDB.dbo.to_read AS tr\n",
                "ON b.book_id = tr.book_id\n",
                "ORDER BY tr.book_id;\n",
                "\n",
                "-- INNER JOIN USING 'IS NOT NULL'\n",
                "SELECT TOP 30 b.title, b.average_rating, b.books_count,tr.user_id, tr.book_id\n",
                "FROM BooksDB.dbo.books AS b\n",
                "INNER JOIN BooksDB.dbo.to_read AS tr\n",
                "ON b.book_id = tr.book_id\n",
                "WHERE tr.user_id IS NOT NULL\n",
                "ORDER BY tr.book_id;"
            ],
            "metadata": {
                "azdata_cell_guid": "66d430ab-18aa-4a29-a32d-0585445e417c"
            },
            "outputs": [
                {
                    "output_type": "display_data",
                    "data": {
                        "text/html": "(30 rows affected)"
                    },
                    "metadata": {}
                },
                {
                    "output_type": "display_data",
                    "data": {
                        "text/html": "(30 rows affected)"
                    },
                    "metadata": {}
                },
                {
                    "output_type": "display_data",
                    "data": {
                        "text/html": "Total execution time: 00:00:41.370"
                    },
                    "metadata": {}
                },
                {
                    "output_type": "execute_result",
                    "metadata": {},
                    "execution_count": 4,
                    "data": {
                        "application/vnd.dataresource+json": {
                            "schema": {
                                "fields": [
                                    {
                                        "name": "title"
                                    },
                                    {
                                        "name": "average_rating"
                                    },
                                    {
                                        "name": "books_count"
                                    },
                                    {
                                        "name": "user_id"
                                    },
                                    {
                                        "name": "book_id"
                                    }
                                ]
                            },
                            "data": [
                                {
                                    "0": "Harry Potter and the Half-Blood Prince (Harry Potter, #6)",
                                    "1": "4.54",
                                    "2": "275",
                                    "3": "12",
                                    "4": "1"
                                },
                                {
                                    "0": "Harry Potter and the Half-Blood Prince (Harry Potter, #6)",
                                    "1": "4.54",
                                    "2": "275",
                                    "3": "192",
                                    "4": "1"
                                },
                                {
                                    "0": "Harry Potter and the Half-Blood Prince (Harry Potter, #6)",
                                    "1": "4.54",
                                    "2": "275",
                                    "3": "202",
                                    "4": "1"
                                },
                                {
                                    "0": "Harry Potter and the Half-Blood Prince (Harry Potter, #6)",
                                    "1": "4.54",
                                    "2": "275",
                                    "3": "244",
                                    "4": "1"
                                },
                                {
                                    "0": "Harry Potter and the Half-Blood Prince (Harry Potter, #6)",
                                    "1": "4.54",
                                    "2": "275",
                                    "3": "253",
                                    "4": "1"
                                },
                                {
                                    "0": "Harry Potter and the Half-Blood Prince (Harry Potter, #6)",
                                    "1": "4.54",
                                    "2": "275",
                                    "3": "350",
                                    "4": "1"
                                },
                                {
                                    "0": "Harry Potter and the Half-Blood Prince (Harry Potter, #6)",
                                    "1": "4.54",
                                    "2": "275",
                                    "3": "478",
                                    "4": "1"
                                },
                                {
                                    "0": "Harry Potter and the Half-Blood Prince (Harry Potter, #6)",
                                    "1": "4.54",
                                    "2": "275",
                                    "3": "511",
                                    "4": "1"
                                },
                                {
                                    "0": "Harry Potter and the Half-Blood Prince (Harry Potter, #6)",
                                    "1": "4.54",
                                    "2": "275",
                                    "3": "525",
                                    "4": "1"
                                },
                                {
                                    "0": "Harry Potter and the Half-Blood Prince (Harry Potter, #6)",
                                    "1": "4.54",
                                    "2": "275",
                                    "3": "527",
                                    "4": "1"
                                },
                                {
                                    "0": "Harry Potter and the Half-Blood Prince (Harry Potter, #6)",
                                    "1": "4.54",
                                    "2": "275",
                                    "3": "552",
                                    "4": "1"
                                },
                                {
                                    "0": "Harry Potter and the Half-Blood Prince (Harry Potter, #6)",
                                    "1": "4.54",
                                    "2": "275",
                                    "3": "644",
                                    "4": "1"
                                },
                                {
                                    "0": "Harry Potter and the Half-Blood Prince (Harry Potter, #6)",
                                    "1": "4.54",
                                    "2": "275",
                                    "3": "754",
                                    "4": "1"
                                },
                                {
                                    "0": "Harry Potter and the Half-Blood Prince (Harry Potter, #6)",
                                    "1": "4.54",
                                    "2": "275",
                                    "3": "826",
                                    "4": "1"
                                },
                                {
                                    "0": "Harry Potter and the Half-Blood Prince (Harry Potter, #6)",
                                    "1": "4.54",
                                    "2": "275",
                                    "3": "1043",
                                    "4": "1"
                                },
                                {
                                    "0": "Harry Potter and the Half-Blood Prince (Harry Potter, #6)",
                                    "1": "4.54",
                                    "2": "275",
                                    "3": "1205",
                                    "4": "1"
                                },
                                {
                                    "0": "Harry Potter and the Half-Blood Prince (Harry Potter, #6)",
                                    "1": "4.54",
                                    "2": "275",
                                    "3": "1442",
                                    "4": "1"
                                },
                                {
                                    "0": "Harry Potter and the Half-Blood Prince (Harry Potter, #6)",
                                    "1": "4.54",
                                    "2": "275",
                                    "3": "1470",
                                    "4": "1"
                                },
                                {
                                    "0": "Harry Potter and the Half-Blood Prince (Harry Potter, #6)",
                                    "1": "4.54",
                                    "2": "275",
                                    "3": "1712",
                                    "4": "1"
                                },
                                {
                                    "0": "Harry Potter and the Half-Blood Prince (Harry Potter, #6)",
                                    "1": "4.54",
                                    "2": "275",
                                    "3": "1814",
                                    "4": "1"
                                },
                                {
                                    "0": "Harry Potter and the Half-Blood Prince (Harry Potter, #6)",
                                    "1": "4.54",
                                    "2": "275",
                                    "3": "1919",
                                    "4": "1"
                                },
                                {
                                    "0": "Harry Potter and the Half-Blood Prince (Harry Potter, #6)",
                                    "1": "4.54",
                                    "2": "275",
                                    "3": "2051",
                                    "4": "1"
                                },
                                {
                                    "0": "Harry Potter and the Half-Blood Prince (Harry Potter, #6)",
                                    "1": "4.54",
                                    "2": "275",
                                    "3": "2052",
                                    "4": "1"
                                },
                                {
                                    "0": "Harry Potter and the Half-Blood Prince (Harry Potter, #6)",
                                    "1": "4.54",
                                    "2": "275",
                                    "3": "2158",
                                    "4": "1"
                                },
                                {
                                    "0": "Harry Potter and the Half-Blood Prince (Harry Potter, #6)",
                                    "1": "4.54",
                                    "2": "275",
                                    "3": "2160",
                                    "4": "1"
                                },
                                {
                                    "0": "Harry Potter and the Half-Blood Prince (Harry Potter, #6)",
                                    "1": "4.54",
                                    "2": "275",
                                    "3": "2345",
                                    "4": "1"
                                },
                                {
                                    "0": "Harry Potter and the Half-Blood Prince (Harry Potter, #6)",
                                    "1": "4.54",
                                    "2": "275",
                                    "3": "2476",
                                    "4": "1"
                                },
                                {
                                    "0": "Harry Potter and the Half-Blood Prince (Harry Potter, #6)",
                                    "1": "4.54",
                                    "2": "275",
                                    "3": "2523",
                                    "4": "1"
                                },
                                {
                                    "0": "Harry Potter and the Half-Blood Prince (Harry Potter, #6)",
                                    "1": "4.54",
                                    "2": "275",
                                    "3": "2623",
                                    "4": "1"
                                },
                                {
                                    "0": "Harry Potter and the Half-Blood Prince (Harry Potter, #6)",
                                    "1": "4.54",
                                    "2": "275",
                                    "3": "2673",
                                    "4": "1"
                                }
                            ]
                        },
                        "text/html": [
                            "<table>",
                            "<tr><th>title</th><th>average_rating</th><th>books_count</th><th>user_id</th><th>book_id</th></tr>",
                            "<tr><td>Harry Potter and the Half-Blood Prince (Harry Potter, #6)</td><td>4.54</td><td>275</td><td>12</td><td>1</td></tr>",
                            "<tr><td>Harry Potter and the Half-Blood Prince (Harry Potter, #6)</td><td>4.54</td><td>275</td><td>192</td><td>1</td></tr>",
                            "<tr><td>Harry Potter and the Half-Blood Prince (Harry Potter, #6)</td><td>4.54</td><td>275</td><td>202</td><td>1</td></tr>",
                            "<tr><td>Harry Potter and the Half-Blood Prince (Harry Potter, #6)</td><td>4.54</td><td>275</td><td>244</td><td>1</td></tr>",
                            "<tr><td>Harry Potter and the Half-Blood Prince (Harry Potter, #6)</td><td>4.54</td><td>275</td><td>253</td><td>1</td></tr>",
                            "<tr><td>Harry Potter and the Half-Blood Prince (Harry Potter, #6)</td><td>4.54</td><td>275</td><td>350</td><td>1</td></tr>",
                            "<tr><td>Harry Potter and the Half-Blood Prince (Harry Potter, #6)</td><td>4.54</td><td>275</td><td>478</td><td>1</td></tr>",
                            "<tr><td>Harry Potter and the Half-Blood Prince (Harry Potter, #6)</td><td>4.54</td><td>275</td><td>511</td><td>1</td></tr>",
                            "<tr><td>Harry Potter and the Half-Blood Prince (Harry Potter, #6)</td><td>4.54</td><td>275</td><td>525</td><td>1</td></tr>",
                            "<tr><td>Harry Potter and the Half-Blood Prince (Harry Potter, #6)</td><td>4.54</td><td>275</td><td>527</td><td>1</td></tr>",
                            "<tr><td>Harry Potter and the Half-Blood Prince (Harry Potter, #6)</td><td>4.54</td><td>275</td><td>552</td><td>1</td></tr>",
                            "<tr><td>Harry Potter and the Half-Blood Prince (Harry Potter, #6)</td><td>4.54</td><td>275</td><td>644</td><td>1</td></tr>",
                            "<tr><td>Harry Potter and the Half-Blood Prince (Harry Potter, #6)</td><td>4.54</td><td>275</td><td>754</td><td>1</td></tr>",
                            "<tr><td>Harry Potter and the Half-Blood Prince (Harry Potter, #6)</td><td>4.54</td><td>275</td><td>826</td><td>1</td></tr>",
                            "<tr><td>Harry Potter and the Half-Blood Prince (Harry Potter, #6)</td><td>4.54</td><td>275</td><td>1043</td><td>1</td></tr>",
                            "<tr><td>Harry Potter and the Half-Blood Prince (Harry Potter, #6)</td><td>4.54</td><td>275</td><td>1205</td><td>1</td></tr>",
                            "<tr><td>Harry Potter and the Half-Blood Prince (Harry Potter, #6)</td><td>4.54</td><td>275</td><td>1442</td><td>1</td></tr>",
                            "<tr><td>Harry Potter and the Half-Blood Prince (Harry Potter, #6)</td><td>4.54</td><td>275</td><td>1470</td><td>1</td></tr>",
                            "<tr><td>Harry Potter and the Half-Blood Prince (Harry Potter, #6)</td><td>4.54</td><td>275</td><td>1712</td><td>1</td></tr>",
                            "<tr><td>Harry Potter and the Half-Blood Prince (Harry Potter, #6)</td><td>4.54</td><td>275</td><td>1814</td><td>1</td></tr>",
                            "<tr><td>Harry Potter and the Half-Blood Prince (Harry Potter, #6)</td><td>4.54</td><td>275</td><td>1919</td><td>1</td></tr>",
                            "<tr><td>Harry Potter and the Half-Blood Prince (Harry Potter, #6)</td><td>4.54</td><td>275</td><td>2051</td><td>1</td></tr>",
                            "<tr><td>Harry Potter and the Half-Blood Prince (Harry Potter, #6)</td><td>4.54</td><td>275</td><td>2052</td><td>1</td></tr>",
                            "<tr><td>Harry Potter and the Half-Blood Prince (Harry Potter, #6)</td><td>4.54</td><td>275</td><td>2158</td><td>1</td></tr>",
                            "<tr><td>Harry Potter and the Half-Blood Prince (Harry Potter, #6)</td><td>4.54</td><td>275</td><td>2160</td><td>1</td></tr>",
                            "<tr><td>Harry Potter and the Half-Blood Prince (Harry Potter, #6)</td><td>4.54</td><td>275</td><td>2345</td><td>1</td></tr>",
                            "<tr><td>Harry Potter and the Half-Blood Prince (Harry Potter, #6)</td><td>4.54</td><td>275</td><td>2476</td><td>1</td></tr>",
                            "<tr><td>Harry Potter and the Half-Blood Prince (Harry Potter, #6)</td><td>4.54</td><td>275</td><td>2523</td><td>1</td></tr>",
                            "<tr><td>Harry Potter and the Half-Blood Prince (Harry Potter, #6)</td><td>4.54</td><td>275</td><td>2623</td><td>1</td></tr>",
                            "<tr><td>Harry Potter and the Half-Blood Prince (Harry Potter, #6)</td><td>4.54</td><td>275</td><td>2673</td><td>1</td></tr>",
                            "</table>"
                        ]
                    }
                },
                {
                    "output_type": "execute_result",
                    "metadata": {},
                    "execution_count": 4,
                    "data": {
                        "application/vnd.dataresource+json": {
                            "schema": {
                                "fields": [
                                    {
                                        "name": "title"
                                    },
                                    {
                                        "name": "average_rating"
                                    },
                                    {
                                        "name": "books_count"
                                    },
                                    {
                                        "name": "user_id"
                                    },
                                    {
                                        "name": "book_id"
                                    }
                                ]
                            },
                            "data": [
                                {
                                    "0": "Harry Potter and the Half-Blood Prince (Harry Potter, #6)",
                                    "1": "4.54",
                                    "2": "275",
                                    "3": "12",
                                    "4": "1"
                                },
                                {
                                    "0": "Harry Potter and the Half-Blood Prince (Harry Potter, #6)",
                                    "1": "4.54",
                                    "2": "275",
                                    "3": "192",
                                    "4": "1"
                                },
                                {
                                    "0": "Harry Potter and the Half-Blood Prince (Harry Potter, #6)",
                                    "1": "4.54",
                                    "2": "275",
                                    "3": "202",
                                    "4": "1"
                                },
                                {
                                    "0": "Harry Potter and the Half-Blood Prince (Harry Potter, #6)",
                                    "1": "4.54",
                                    "2": "275",
                                    "3": "244",
                                    "4": "1"
                                },
                                {
                                    "0": "Harry Potter and the Half-Blood Prince (Harry Potter, #6)",
                                    "1": "4.54",
                                    "2": "275",
                                    "3": "253",
                                    "4": "1"
                                },
                                {
                                    "0": "Harry Potter and the Half-Blood Prince (Harry Potter, #6)",
                                    "1": "4.54",
                                    "2": "275",
                                    "3": "350",
                                    "4": "1"
                                },
                                {
                                    "0": "Harry Potter and the Half-Blood Prince (Harry Potter, #6)",
                                    "1": "4.54",
                                    "2": "275",
                                    "3": "478",
                                    "4": "1"
                                },
                                {
                                    "0": "Harry Potter and the Half-Blood Prince (Harry Potter, #6)",
                                    "1": "4.54",
                                    "2": "275",
                                    "3": "511",
                                    "4": "1"
                                },
                                {
                                    "0": "Harry Potter and the Half-Blood Prince (Harry Potter, #6)",
                                    "1": "4.54",
                                    "2": "275",
                                    "3": "525",
                                    "4": "1"
                                },
                                {
                                    "0": "Harry Potter and the Half-Blood Prince (Harry Potter, #6)",
                                    "1": "4.54",
                                    "2": "275",
                                    "3": "527",
                                    "4": "1"
                                },
                                {
                                    "0": "Harry Potter and the Half-Blood Prince (Harry Potter, #6)",
                                    "1": "4.54",
                                    "2": "275",
                                    "3": "552",
                                    "4": "1"
                                },
                                {
                                    "0": "Harry Potter and the Half-Blood Prince (Harry Potter, #6)",
                                    "1": "4.54",
                                    "2": "275",
                                    "3": "644",
                                    "4": "1"
                                },
                                {
                                    "0": "Harry Potter and the Half-Blood Prince (Harry Potter, #6)",
                                    "1": "4.54",
                                    "2": "275",
                                    "3": "754",
                                    "4": "1"
                                },
                                {
                                    "0": "Harry Potter and the Half-Blood Prince (Harry Potter, #6)",
                                    "1": "4.54",
                                    "2": "275",
                                    "3": "826",
                                    "4": "1"
                                },
                                {
                                    "0": "Harry Potter and the Half-Blood Prince (Harry Potter, #6)",
                                    "1": "4.54",
                                    "2": "275",
                                    "3": "1043",
                                    "4": "1"
                                },
                                {
                                    "0": "Harry Potter and the Half-Blood Prince (Harry Potter, #6)",
                                    "1": "4.54",
                                    "2": "275",
                                    "3": "1205",
                                    "4": "1"
                                },
                                {
                                    "0": "Harry Potter and the Half-Blood Prince (Harry Potter, #6)",
                                    "1": "4.54",
                                    "2": "275",
                                    "3": "1442",
                                    "4": "1"
                                },
                                {
                                    "0": "Harry Potter and the Half-Blood Prince (Harry Potter, #6)",
                                    "1": "4.54",
                                    "2": "275",
                                    "3": "1470",
                                    "4": "1"
                                },
                                {
                                    "0": "Harry Potter and the Half-Blood Prince (Harry Potter, #6)",
                                    "1": "4.54",
                                    "2": "275",
                                    "3": "1712",
                                    "4": "1"
                                },
                                {
                                    "0": "Harry Potter and the Half-Blood Prince (Harry Potter, #6)",
                                    "1": "4.54",
                                    "2": "275",
                                    "3": "1814",
                                    "4": "1"
                                },
                                {
                                    "0": "Harry Potter and the Half-Blood Prince (Harry Potter, #6)",
                                    "1": "4.54",
                                    "2": "275",
                                    "3": "1919",
                                    "4": "1"
                                },
                                {
                                    "0": "Harry Potter and the Half-Blood Prince (Harry Potter, #6)",
                                    "1": "4.54",
                                    "2": "275",
                                    "3": "2051",
                                    "4": "1"
                                },
                                {
                                    "0": "Harry Potter and the Half-Blood Prince (Harry Potter, #6)",
                                    "1": "4.54",
                                    "2": "275",
                                    "3": "2052",
                                    "4": "1"
                                },
                                {
                                    "0": "Harry Potter and the Half-Blood Prince (Harry Potter, #6)",
                                    "1": "4.54",
                                    "2": "275",
                                    "3": "2158",
                                    "4": "1"
                                },
                                {
                                    "0": "Harry Potter and the Half-Blood Prince (Harry Potter, #6)",
                                    "1": "4.54",
                                    "2": "275",
                                    "3": "2160",
                                    "4": "1"
                                },
                                {
                                    "0": "Harry Potter and the Half-Blood Prince (Harry Potter, #6)",
                                    "1": "4.54",
                                    "2": "275",
                                    "3": "2345",
                                    "4": "1"
                                },
                                {
                                    "0": "Harry Potter and the Half-Blood Prince (Harry Potter, #6)",
                                    "1": "4.54",
                                    "2": "275",
                                    "3": "2476",
                                    "4": "1"
                                },
                                {
                                    "0": "Harry Potter and the Half-Blood Prince (Harry Potter, #6)",
                                    "1": "4.54",
                                    "2": "275",
                                    "3": "2523",
                                    "4": "1"
                                },
                                {
                                    "0": "Harry Potter and the Half-Blood Prince (Harry Potter, #6)",
                                    "1": "4.54",
                                    "2": "275",
                                    "3": "2623",
                                    "4": "1"
                                },
                                {
                                    "0": "Harry Potter and the Half-Blood Prince (Harry Potter, #6)",
                                    "1": "4.54",
                                    "2": "275",
                                    "3": "2673",
                                    "4": "1"
                                }
                            ]
                        },
                        "text/html": [
                            "<table>",
                            "<tr><th>title</th><th>average_rating</th><th>books_count</th><th>user_id</th><th>book_id</th></tr>",
                            "<tr><td>Harry Potter and the Half-Blood Prince (Harry Potter, #6)</td><td>4.54</td><td>275</td><td>12</td><td>1</td></tr>",
                            "<tr><td>Harry Potter and the Half-Blood Prince (Harry Potter, #6)</td><td>4.54</td><td>275</td><td>192</td><td>1</td></tr>",
                            "<tr><td>Harry Potter and the Half-Blood Prince (Harry Potter, #6)</td><td>4.54</td><td>275</td><td>202</td><td>1</td></tr>",
                            "<tr><td>Harry Potter and the Half-Blood Prince (Harry Potter, #6)</td><td>4.54</td><td>275</td><td>244</td><td>1</td></tr>",
                            "<tr><td>Harry Potter and the Half-Blood Prince (Harry Potter, #6)</td><td>4.54</td><td>275</td><td>253</td><td>1</td></tr>",
                            "<tr><td>Harry Potter and the Half-Blood Prince (Harry Potter, #6)</td><td>4.54</td><td>275</td><td>350</td><td>1</td></tr>",
                            "<tr><td>Harry Potter and the Half-Blood Prince (Harry Potter, #6)</td><td>4.54</td><td>275</td><td>478</td><td>1</td></tr>",
                            "<tr><td>Harry Potter and the Half-Blood Prince (Harry Potter, #6)</td><td>4.54</td><td>275</td><td>511</td><td>1</td></tr>",
                            "<tr><td>Harry Potter and the Half-Blood Prince (Harry Potter, #6)</td><td>4.54</td><td>275</td><td>525</td><td>1</td></tr>",
                            "<tr><td>Harry Potter and the Half-Blood Prince (Harry Potter, #6)</td><td>4.54</td><td>275</td><td>527</td><td>1</td></tr>",
                            "<tr><td>Harry Potter and the Half-Blood Prince (Harry Potter, #6)</td><td>4.54</td><td>275</td><td>552</td><td>1</td></tr>",
                            "<tr><td>Harry Potter and the Half-Blood Prince (Harry Potter, #6)</td><td>4.54</td><td>275</td><td>644</td><td>1</td></tr>",
                            "<tr><td>Harry Potter and the Half-Blood Prince (Harry Potter, #6)</td><td>4.54</td><td>275</td><td>754</td><td>1</td></tr>",
                            "<tr><td>Harry Potter and the Half-Blood Prince (Harry Potter, #6)</td><td>4.54</td><td>275</td><td>826</td><td>1</td></tr>",
                            "<tr><td>Harry Potter and the Half-Blood Prince (Harry Potter, #6)</td><td>4.54</td><td>275</td><td>1043</td><td>1</td></tr>",
                            "<tr><td>Harry Potter and the Half-Blood Prince (Harry Potter, #6)</td><td>4.54</td><td>275</td><td>1205</td><td>1</td></tr>",
                            "<tr><td>Harry Potter and the Half-Blood Prince (Harry Potter, #6)</td><td>4.54</td><td>275</td><td>1442</td><td>1</td></tr>",
                            "<tr><td>Harry Potter and the Half-Blood Prince (Harry Potter, #6)</td><td>4.54</td><td>275</td><td>1470</td><td>1</td></tr>",
                            "<tr><td>Harry Potter and the Half-Blood Prince (Harry Potter, #6)</td><td>4.54</td><td>275</td><td>1712</td><td>1</td></tr>",
                            "<tr><td>Harry Potter and the Half-Blood Prince (Harry Potter, #6)</td><td>4.54</td><td>275</td><td>1814</td><td>1</td></tr>",
                            "<tr><td>Harry Potter and the Half-Blood Prince (Harry Potter, #6)</td><td>4.54</td><td>275</td><td>1919</td><td>1</td></tr>",
                            "<tr><td>Harry Potter and the Half-Blood Prince (Harry Potter, #6)</td><td>4.54</td><td>275</td><td>2051</td><td>1</td></tr>",
                            "<tr><td>Harry Potter and the Half-Blood Prince (Harry Potter, #6)</td><td>4.54</td><td>275</td><td>2052</td><td>1</td></tr>",
                            "<tr><td>Harry Potter and the Half-Blood Prince (Harry Potter, #6)</td><td>4.54</td><td>275</td><td>2158</td><td>1</td></tr>",
                            "<tr><td>Harry Potter and the Half-Blood Prince (Harry Potter, #6)</td><td>4.54</td><td>275</td><td>2160</td><td>1</td></tr>",
                            "<tr><td>Harry Potter and the Half-Blood Prince (Harry Potter, #6)</td><td>4.54</td><td>275</td><td>2345</td><td>1</td></tr>",
                            "<tr><td>Harry Potter and the Half-Blood Prince (Harry Potter, #6)</td><td>4.54</td><td>275</td><td>2476</td><td>1</td></tr>",
                            "<tr><td>Harry Potter and the Half-Blood Prince (Harry Potter, #6)</td><td>4.54</td><td>275</td><td>2523</td><td>1</td></tr>",
                            "<tr><td>Harry Potter and the Half-Blood Prince (Harry Potter, #6)</td><td>4.54</td><td>275</td><td>2623</td><td>1</td></tr>",
                            "<tr><td>Harry Potter and the Half-Blood Prince (Harry Potter, #6)</td><td>4.54</td><td>275</td><td>2673</td><td>1</td></tr>",
                            "</table>"
                        ]
                    }
                }
            ],
            "execution_count": 4
        },
        {
            "cell_type": "code",
            "source": [
                "-- looking for a suggestion -- between 4 and 5 stars\n",
                "-- HAVING rating >= 4\n",
                "\n",
                "SELECT TOP 5 b.title, b.average_rating, r.user_id, b.book_id\n",
                "FROM BooksDB.dbo.ratings AS r\n",
                "LEFT JOIN BooksDB.dbo.books AS b\n",
                "ON r.book_id = b.book_id\n",
                "--WHERE b.title IS NOT NULL;\n",
                "-- GROUP BY b.book_id\n",
                "-- HAVING b.average_rating > 4.2; "
            ],
            "metadata": {
                "azdata_cell_guid": "4eeee600-7e69-4d97-9600-2d08027e0262",
                "tags": []
            },
            "outputs": [
                {
                    "output_type": "display_data",
                    "data": {
                        "text/html": "(5 rows affected)"
                    },
                    "metadata": {}
                },
                {
                    "output_type": "display_data",
                    "data": {
                        "text/html": "Total execution time: 00:00:00.224"
                    },
                    "metadata": {}
                },
                {
                    "output_type": "execute_result",
                    "metadata": {},
                    "execution_count": 5,
                    "data": {
                        "application/vnd.dataresource+json": {
                            "schema": {
                                "fields": [
                                    {
                                        "name": "title"
                                    },
                                    {
                                        "name": "average_rating"
                                    },
                                    {
                                        "name": "user_id"
                                    },
                                    {
                                        "name": "book_id"
                                    }
                                ]
                            },
                            "data": [
                                {
                                    "0": "NULL",
                                    "1": "NULL",
                                    "2": "35146",
                                    "3": "NULL"
                                },
                                {
                                    "0": "NULL",
                                    "1": "NULL",
                                    "2": "36099",
                                    "3": "NULL"
                                },
                                {
                                    "0": "NULL",
                                    "1": "NULL",
                                    "2": "36695",
                                    "3": "NULL"
                                },
                                {
                                    "0": "NULL",
                                    "1": "NULL",
                                    "2": "37284",
                                    "3": "NULL"
                                },
                                {
                                    "0": "NULL",
                                    "1": "NULL",
                                    "2": "37834",
                                    "3": "NULL"
                                }
                            ]
                        },
                        "text/html": [
                            "<table>",
                            "<tr><th>title</th><th>average_rating</th><th>user_id</th><th>book_id</th></tr>",
                            "<tr><td>NULL</td><td>NULL</td><td>35146</td><td>NULL</td></tr>",
                            "<tr><td>NULL</td><td>NULL</td><td>36099</td><td>NULL</td></tr>",
                            "<tr><td>NULL</td><td>NULL</td><td>36695</td><td>NULL</td></tr>",
                            "<tr><td>NULL</td><td>NULL</td><td>37284</td><td>NULL</td></tr>",
                            "<tr><td>NULL</td><td>NULL</td><td>37834</td><td>NULL</td></tr>",
                            "</table>"
                        ]
                    }
                }
            ],
            "execution_count": 5
        },
        {
            "cell_type": "code",
            "source": [
                "-- Find the most tagged book\n",
                "\n",
                "-- using the books and book_tags tables:\n",
                "\n",
                "-- What Book has the most popular tag id?\n",
                "SELECT TOP 5 b.title, bt.count, bt.tag_id\n",
                "FROM BooksDB.dbo.books AS b\n",
                "INNER JOIN BooksDB.dbo.book_tags AS bt\n",
                "ON bt.goodreads_book_id = b.best_book_id\n",
                "ORDER BY bt.count DESC;\n",
                "-- ANS: The Alchemist\n",
                "\n",
                "-----------------------------------------------\n",
                "-- How many different tags for the Alchemist?\n",
                "SELECT TOP 5 b.title, bt.[count], bt.tag_id\n",
                "FROM BooksDB.dbo.books AS b\n",
                "INNER JOIN BooksDB.dbo.book_tags AS bt\n",
                "ON bt.goodreads_book_id = b.best_book_id\n",
                "WHERE b.title = 'The Alchemist'\n",
                "ORDER BY bt.[count] DESC;\n",
                "-- ANS: 100\n",
                "\n",
                "-------------------------------------\n",
                "-- using the tags table\n",
                "\n",
                "-- what is the most popular tag for the Alchemist?\n",
                "SELECT tag_name\n",
                "FROM BooksDB.dbo.tags\n",
                "WHERE tag_id = 30574;\n",
                "-- ANS: to-read (seriously?!?)"
            ],
            "metadata": {
                "azdata_cell_guid": "de3ac253-6b47-4740-8c6e-5f9d1b0ce36b"
            },
            "outputs": [
                {
                    "output_type": "display_data",
                    "data": {
                        "text/html": "(5 rows affected)"
                    },
                    "metadata": {}
                },
                {
                    "output_type": "display_data",
                    "data": {
                        "text/html": "(5 rows affected)"
                    },
                    "metadata": {}
                },
                {
                    "output_type": "display_data",
                    "data": {
                        "text/html": "(1 row affected)"
                    },
                    "metadata": {}
                },
                {
                    "output_type": "display_data",
                    "data": {
                        "text/html": "Total execution time: 00:00:01.274"
                    },
                    "metadata": {}
                },
                {
                    "output_type": "execute_result",
                    "metadata": {},
                    "execution_count": 6,
                    "data": {
                        "application/vnd.dataresource+json": {
                            "schema": {
                                "fields": [
                                    {
                                        "name": "title"
                                    },
                                    {
                                        "name": "count"
                                    },
                                    {
                                        "name": "tag_id"
                                    }
                                ]
                            },
                            "data": [
                                {
                                    "0": "The Alchemist",
                                    "1": "596234",
                                    "2": "30574"
                                },
                                {
                                    "0": "The Girl with the Dragon Tattoo (Millennium, #1)",
                                    "1": "586235",
                                    "2": "30574"
                                },
                                {
                                    "0": "All the Light We Cannot See",
                                    "1": "505884",
                                    "2": "30574"
                                },
                                {
                                    "0": "Harry Potter and the Sorcerer's Stone (Harry Potter, #1)",
                                    "1": "496107",
                                    "2": "30574"
                                },
                                {
                                    "0": "Les Misérables",
                                    "1": "488469",
                                    "2": "30574"
                                }
                            ]
                        },
                        "text/html": [
                            "<table>",
                            "<tr><th>title</th><th>count</th><th>tag_id</th></tr>",
                            "<tr><td>The Alchemist</td><td>596234</td><td>30574</td></tr>",
                            "<tr><td>The Girl with the Dragon Tattoo (Millennium, #1)</td><td>586235</td><td>30574</td></tr>",
                            "<tr><td>All the Light We Cannot See</td><td>505884</td><td>30574</td></tr>",
                            "<tr><td>Harry Potter and the Sorcerer's Stone (Harry Potter, #1)</td><td>496107</td><td>30574</td></tr>",
                            "<tr><td>Les Misérables</td><td>488469</td><td>30574</td></tr>",
                            "</table>"
                        ]
                    }
                },
                {
                    "output_type": "execute_result",
                    "metadata": {},
                    "execution_count": 6,
                    "data": {
                        "application/vnd.dataresource+json": {
                            "schema": {
                                "fields": [
                                    {
                                        "name": "title"
                                    },
                                    {
                                        "name": "count"
                                    },
                                    {
                                        "name": "tag_id"
                                    }
                                ]
                            },
                            "data": [
                                {
                                    "0": "The Alchemist",
                                    "1": "596234",
                                    "2": "30574"
                                },
                                {
                                    "0": "The Alchemist",
                                    "1": "26269",
                                    "2": "8717"
                                },
                                {
                                    "0": "The Alchemist",
                                    "1": "9712",
                                    "2": "11743"
                                },
                                {
                                    "0": "The Alchemist",
                                    "1": "8698",
                                    "2": "11557"
                                },
                                {
                                    "0": "The Alchemist",
                                    "1": "3089",
                                    "2": "7457"
                                }
                            ]
                        },
                        "text/html": [
                            "<table>",
                            "<tr><th>title</th><th>count</th><th>tag_id</th></tr>",
                            "<tr><td>The Alchemist</td><td>596234</td><td>30574</td></tr>",
                            "<tr><td>The Alchemist</td><td>26269</td><td>8717</td></tr>",
                            "<tr><td>The Alchemist</td><td>9712</td><td>11743</td></tr>",
                            "<tr><td>The Alchemist</td><td>8698</td><td>11557</td></tr>",
                            "<tr><td>The Alchemist</td><td>3089</td><td>7457</td></tr>",
                            "</table>"
                        ]
                    }
                },
                {
                    "output_type": "execute_result",
                    "metadata": {},
                    "execution_count": 6,
                    "data": {
                        "application/vnd.dataresource+json": {
                            "schema": {
                                "fields": [
                                    {
                                        "name": "tag_name"
                                    }
                                ]
                            },
                            "data": [
                                {
                                    "0": "to-read"
                                }
                            ]
                        },
                        "text/html": [
                            "<table>",
                            "<tr><th>tag_name</th></tr>",
                            "<tr><td>to-read</td></tr>",
                            "</table>"
                        ]
                    }
                }
            ],
            "execution_count": 6
        },
        {
            "cell_type": "markdown",
            "source": [
                ""
            ],
            "metadata": {
                "azdata_cell_guid": "df783e7e-3aff-4e63-9edb-f2e729c7d1c8"
            }
        },
        {
            "cell_type": "code",
            "source": [
                "-- Using the tag_name and tags tables, pick a tag and explore how many times it has been used.  \n",
                "\n",
                "-- tag suggestions:\n",
                "    -- %baking% 22 tags\n",
                "    -- %coding%% 1 tag\n",
                "    -- %giraffes%% 2 tags\n",
                "    -- %halloween% 8 tags\n",
                "    -- %fiction% 826 tags\n",
                "    -- %nonfiction% 103 tags\n",
                "    -- %philosophy% 94 tags\n",
                "\n",
                "SELECT * \n",
                "FROM BooksDB.dbo.tags\n",
                "WHERE tag_name LIKE '%halloween%' \n",
                "-- halloween, halloween-books, halloween-reading, halloween-reads, halloween-storytime, holiday-halloween, holidays-halloween, spooky-reads-for-halloween\n",
                "-- i like the 'halloween-storytime' tag: 13877\n",
                "\n",
                "-- Find the book with the most tags that you selected\n",
                "SELECT b.title, bt.[count], bt.tag_id\n",
                "FROM BooksDB.dbo.books AS b\n",
                "INNER JOIN BooksDB.dbo.book_tags AS bt\n",
                "ON bt.goodreads_book_id = b.best_book_id\n",
                "WHERE bt.tag_id = 13877; --(halloween-storytime)\n",
                "-- The Little Old Lady Who Was Not Afraid of Anything\n",
                "-- WHERE bt.tag_id = 13873 --(halloween)\n",
                "-- ORDER BY bt.[count] DESC;\n",
                "-- The Little Old Lady Who Was Not Afraid of Anything (63 tags)"
            ],
            "metadata": {
                "azdata_cell_guid": "c4b0b67c-7cfa-4f52-be97-ffe5cc28ed54",
                "tags": []
            },
            "outputs": [
                {
                    "output_type": "display_data",
                    "data": {
                        "text/html": "(8 rows affected)"
                    },
                    "metadata": {}
                },
                {
                    "output_type": "display_data",
                    "data": {
                        "text/html": "(1 row affected)"
                    },
                    "metadata": {}
                },
                {
                    "output_type": "display_data",
                    "data": {
                        "text/html": "Total execution time: 00:00:00.350"
                    },
                    "metadata": {}
                },
                {
                    "output_type": "execute_result",
                    "metadata": {},
                    "execution_count": 7,
                    "data": {
                        "application/vnd.dataresource+json": {
                            "schema": {
                                "fields": [
                                    {
                                        "name": "tag_id"
                                    },
                                    {
                                        "name": "tag_name"
                                    }
                                ]
                            },
                            "data": [
                                {
                                    "0": "13873",
                                    "1": "halloween"
                                },
                                {
                                    "0": "13874",
                                    "1": "halloween-books"
                                },
                                {
                                    "0": "13875",
                                    "1": "halloween-reading"
                                },
                                {
                                    "0": "13876",
                                    "1": "halloween-reads"
                                },
                                {
                                    "0": "13877",
                                    "1": "halloween-storytime"
                                },
                                {
                                    "0": "14698",
                                    "1": "holiday-halloween"
                                },
                                {
                                    "0": "14706",
                                    "1": "holidays-halloween"
                                },
                                {
                                    "0": "28416",
                                    "1": "spooky-reads-for-halloween"
                                }
                            ]
                        },
                        "text/html": [
                            "<table>",
                            "<tr><th>tag_id</th><th>tag_name</th></tr>",
                            "<tr><td>13873</td><td>halloween</td></tr>",
                            "<tr><td>13874</td><td>halloween-books</td></tr>",
                            "<tr><td>13875</td><td>halloween-reading</td></tr>",
                            "<tr><td>13876</td><td>halloween-reads</td></tr>",
                            "<tr><td>13877</td><td>halloween-storytime</td></tr>",
                            "<tr><td>14698</td><td>holiday-halloween</td></tr>",
                            "<tr><td>14706</td><td>holidays-halloween</td></tr>",
                            "<tr><td>28416</td><td>spooky-reads-for-halloween</td></tr>",
                            "</table>"
                        ]
                    }
                },
                {
                    "output_type": "execute_result",
                    "metadata": {},
                    "execution_count": 7,
                    "data": {
                        "application/vnd.dataresource+json": {
                            "schema": {
                                "fields": [
                                    {
                                        "name": "title"
                                    },
                                    {
                                        "name": "count"
                                    },
                                    {
                                        "name": "tag_id"
                                    }
                                ]
                            },
                            "data": [
                                {
                                    "0": "The Little Old Lady Who Was Not Afraid of Anything",
                                    "1": "4",
                                    "2": "13877"
                                }
                            ]
                        },
                        "text/html": [
                            "<table>",
                            "<tr><th>title</th><th>count</th><th>tag_id</th></tr>",
                            "<tr><td>The Little Old Lady Who Was Not Afraid of Anything</td><td>4</td><td>13877</td></tr>",
                            "</table>"
                        ]
                    }
                }
            ],
            "execution_count": 7
        },
        {
            "cell_type": "code",
            "source": [
                "-- Using the to_read table with the book table \n",
                "-- Which users have the most books on their \"to read\" list?\n",
                "SELECT TOP 5 COUNT(b.title) AS NumToRead, tr.user_id\n",
                "FROM BooksDB.dbo.books AS b\n",
                "INNER JOIN BooksDB.dbo.to_read AS tr\n",
                "ON b.book_id = tr.book_id\n",
                "GROUP BY tr.user_id\n",
                "ORDER BY NumToRead DESC;\n",
                "\n",
                "-- Pick a user and print the titles for their to-read list\n",
                "SELECT TOP 20 b.title AS ToReadList\n",
                "FROM BooksDB.dbo.books AS b\n",
                "INNER JOIN BooksDB.dbo.to_read AS tr\n",
                "ON b.book_id = tr.book_id\n",
                "WHERE tr.user_id = 12483\n",
                "\n",
                "-- WHAT ARE THE TOP TEN MOST POPULAR BOOK TITLE ON THE TO READ LIST?  \n",
                "SELECT TOP 10 COUNT(tr.user_id) AS NumToRead, b.title\n",
                "FROM BooksDB.dbo.books AS b\n",
                "INNER JOIN BooksDB.dbo.to_read AS tr\n",
                "ON b.book_id = tr.book_id\n",
                "GROUP BY b.title \n",
                "ORDER BY NumToRead DESC;"
            ],
            "metadata": {
                "azdata_cell_guid": "c6c815f8-890d-4163-be63-3d300e320597",
                "tags": [
                    "hide_input"
                ]
            },
            "outputs": [
                {
                    "output_type": "display_data",
                    "data": {
                        "text/html": "(5 rows affected)"
                    },
                    "metadata": {}
                },
                {
                    "output_type": "display_data",
                    "data": {
                        "text/html": "(15 rows affected)"
                    },
                    "metadata": {}
                },
                {
                    "output_type": "display_data",
                    "data": {
                        "text/html": "(10 rows affected)"
                    },
                    "metadata": {}
                },
                {
                    "output_type": "display_data",
                    "data": {
                        "text/html": "Total execution time: 00:00:00.569"
                    },
                    "metadata": {}
                },
                {
                    "output_type": "execute_result",
                    "metadata": {},
                    "execution_count": 8,
                    "data": {
                        "application/vnd.dataresource+json": {
                            "schema": {
                                "fields": [
                                    {
                                        "name": "NumToRead"
                                    },
                                    {
                                        "name": "user_id"
                                    }
                                ]
                            },
                            "data": [
                                {
                                    "0": "15",
                                    "1": "11932"
                                },
                                {
                                    "0": "15",
                                    "1": "12483"
                                },
                                {
                                    "0": "15",
                                    "1": "38201"
                                },
                                {
                                    "0": "15",
                                    "1": "14771"
                                },
                                {
                                    "0": "14",
                                    "1": "41523"
                                }
                            ]
                        },
                        "text/html": [
                            "<table>",
                            "<tr><th>NumToRead</th><th>user_id</th></tr>",
                            "<tr><td>15</td><td>11932</td></tr>",
                            "<tr><td>15</td><td>12483</td></tr>",
                            "<tr><td>15</td><td>38201</td></tr>",
                            "<tr><td>15</td><td>14771</td></tr>",
                            "<tr><td>14</td><td>41523</td></tr>",
                            "</table>"
                        ]
                    }
                },
                {
                    "output_type": "execute_result",
                    "metadata": {},
                    "execution_count": 8,
                    "data": {
                        "application/vnd.dataresource+json": {
                            "schema": {
                                "fields": [
                                    {
                                        "name": "ToReadList"
                                    }
                                ]
                            },
                            "data": [
                                {
                                    "0": "Fahrenheit 451"
                                },
                                {
                                    "0": "Hamlet"
                                },
                                {
                                    "0": "Great Expectations"
                                },
                                {
                                    "0": "Madame Bovary"
                                },
                                {
                                    "0": "A Room with a View"
                                },
                                {
                                    "0": "Cryptonomicon"
                                },
                                {
                                    "0": "The Complete Sherlock Holmes, Vol 2"
                                },
                                {
                                    "0": "Tropic of Cancer"
                                },
                                {
                                    "0": "The New York Trilogy"
                                },
                                {
                                    "0": "Metamorphoses"
                                },
                                {
                                    "0": "Founding Brothers: The Revolutionary Generation"
                                },
                                {
                                    "0": "Peter and the Shadow Thieves (Peter and the Starcatchers, #2)"
                                },
                                {
                                    "0": "The Salmon of Doubt (Dirk Gently, #3)"
                                },
                                {
                                    "0": "Jailbird"
                                },
                                {
                                    "0": "The Broken Wings"
                                }
                            ]
                        },
                        "text/html": [
                            "<table>",
                            "<tr><th>ToReadList</th></tr>",
                            "<tr><td>Fahrenheit 451</td></tr>",
                            "<tr><td>Hamlet</td></tr>",
                            "<tr><td>Great Expectations</td></tr>",
                            "<tr><td>Madame Bovary</td></tr>",
                            "<tr><td>A Room with a View</td></tr>",
                            "<tr><td>Cryptonomicon</td></tr>",
                            "<tr><td>The Complete Sherlock Holmes, Vol 2</td></tr>",
                            "<tr><td>Tropic of Cancer</td></tr>",
                            "<tr><td>The New York Trilogy</td></tr>",
                            "<tr><td>Metamorphoses</td></tr>",
                            "<tr><td>Founding Brothers: The Revolutionary Generation</td></tr>",
                            "<tr><td>Peter and the Shadow Thieves (Peter and the Starcatchers, #2)</td></tr>",
                            "<tr><td>The Salmon of Doubt (Dirk Gently, #3)</td></tr>",
                            "<tr><td>Jailbird</td></tr>",
                            "<tr><td>The Broken Wings</td></tr>",
                            "</table>"
                        ]
                    }
                },
                {
                    "output_type": "execute_result",
                    "metadata": {},
                    "execution_count": 8,
                    "data": {
                        "application/vnd.dataresource+json": {
                            "schema": {
                                "fields": [
                                    {
                                        "name": "NumToRead"
                                    },
                                    {
                                        "name": "title"
                                    }
                                ]
                            },
                            "data": [
                                {
                                    "0": "1812",
                                    "1": "The Ultimate Hitchhiker's Guide to the Galaxy"
                                },
                                {
                                    "0": "1767",
                                    "1": "The Hitchhiker's Guide to the Galaxy (Hitchhiker's Guide to the Galaxy, #1)"
                                },
                                {
                                    "0": "1499",
                                    "1": "The Lord of the Rings: The Art of The Fellowship of the Ring"
                                },
                                {
                                    "0": "1498",
                                    "1": "Harry Potter Boxed Set, Books 1-5 (Harry Potter, #1-5)"
                                },
                                {
                                    "0": "1484",
                                    "1": "Harry Potter and the Goblet of Fire (Harry Potter, #4)"
                                },
                                {
                                    "0": "1352",
                                    "1": "The Known World"
                                },
                                {
                                    "0": "1293",
                                    "1": "Harry Potter and the Prisoner of Azkaban (Harry Potter, #3)"
                                },
                                {
                                    "0": "1211",
                                    "1": "The Lord of the Rings: Weapons and Warfare"
                                },
                                {
                                    "0": "1148",
                                    "1": "Notes from a Small Island"
                                },
                                {
                                    "0": "1110",
                                    "1": "Harry Potter Collection (Harry Potter, #1-6)"
                                }
                            ]
                        },
                        "text/html": [
                            "<table>",
                            "<tr><th>NumToRead</th><th>title</th></tr>",
                            "<tr><td>1812</td><td>The Ultimate Hitchhiker's Guide to the Galaxy</td></tr>",
                            "<tr><td>1767</td><td>The Hitchhiker's Guide to the Galaxy (Hitchhiker's Guide to the Galaxy, #1)</td></tr>",
                            "<tr><td>1499</td><td>The Lord of the Rings: The Art of The Fellowship of the Ring</td></tr>",
                            "<tr><td>1498</td><td>Harry Potter Boxed Set, Books 1-5 (Harry Potter, #1-5)</td></tr>",
                            "<tr><td>1484</td><td>Harry Potter and the Goblet of Fire (Harry Potter, #4)</td></tr>",
                            "<tr><td>1352</td><td>The Known World</td></tr>",
                            "<tr><td>1293</td><td>Harry Potter and the Prisoner of Azkaban (Harry Potter, #3)</td></tr>",
                            "<tr><td>1211</td><td>The Lord of the Rings: Weapons and Warfare</td></tr>",
                            "<tr><td>1148</td><td>Notes from a Small Island</td></tr>",
                            "<tr><td>1110</td><td>Harry Potter Collection (Harry Potter, #1-6)</td></tr>",
                            "</table>"
                        ]
                    }
                }
            ],
            "execution_count": 8
        },
        {
            "cell_type": "code",
            "source": [
                "-- SELECT TOP 5 COUNT(tr.book_id) AS WishListCounts, tr.user_id\n",
                "-- FROM BooksDB.dbo.to_read AS tr\n",
                "-- GROUP BY tr.user_id\n",
                "-- ORDER BY WishListCounts DESC;\n",
                "\n",
                "-- SELECT TOP 200 b.title, b.average"
            ],
            "metadata": {
                "azdata_cell_guid": "df6cc73b-42f0-4770-b583-6dfa0aad0d06"
            },
            "outputs": [
                {
                    "output_type": "display_data",
                    "data": {
                        "text/html": "Commands completed successfully."
                    },
                    "metadata": {}
                },
                {
                    "output_type": "display_data",
                    "data": {
                        "text/html": "Total execution time: 00:00:00.052"
                    },
                    "metadata": {}
                }
            ],
            "execution_count": 9
        },
        {
            "cell_type": "code",
            "source": [
                "-- what books are on the user with the most books on the to-read list?\n",
                "\n",
                "SELECT TOP 100 b.title\n",
                "FROM BooksDB.dbo.to_read AS tr\n",
                "INNER JOIN BooksDB.dbo.books AS b\n",
                "ON b.book_id = tr.book_id\n",
                "WHERE tr.user_id = 38557"
            ],
            "metadata": {
                "azdata_cell_guid": "58eb1fa1-828a-442f-b405-b9c01aec15a2",
                "tags": []
            },
            "outputs": [
                {
                    "output_type": "display_data",
                    "data": {
                        "text/html": "(1 row affected)"
                    },
                    "metadata": {}
                },
                {
                    "output_type": "display_data",
                    "data": {
                        "text/html": "Total execution time: 00:00:00.198"
                    },
                    "metadata": {}
                },
                {
                    "output_type": "execute_result",
                    "metadata": {},
                    "execution_count": 10,
                    "data": {
                        "application/vnd.dataresource+json": {
                            "schema": {
                                "fields": [
                                    {
                                        "name": "title"
                                    }
                                ]
                            },
                            "data": [
                                {
                                    "0": "Another Bullshit Night in Suck City"
                                }
                            ]
                        },
                        "text/html": [
                            "<table>",
                            "<tr><th>title</th></tr>",
                            "<tr><td>Another Bullshit Night in Suck City</td></tr>",
                            "</table>"
                        ]
                    }
                }
            ],
            "execution_count": 10
        }
    ]
}