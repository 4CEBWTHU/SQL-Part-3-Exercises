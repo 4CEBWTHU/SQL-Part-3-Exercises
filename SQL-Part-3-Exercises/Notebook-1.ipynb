{
    "metadata": {
        "kernelspec": {
            "name": "SQL",
            "display_name": "SQL",
            "language": "sql"
        },
        "language_info": {
            "name": "sql",
            "version": ""
        },
        "extensions": {
            "azuredatastudio": {
                "version": 1,
                "views": []
            }
        }
    },
    "nbformat_minor": 2,
    "nbformat": 4,
    "cells": [
        {
            "cell_type": "markdown",
            "source": [
                "SQL Part 3 Exercises -- BooksDB"
            ],
            "metadata": {
                "azdata_cell_guid": "db9534a9-c8a7-4c09-8180-bcba0690bb02"
            },
            "attachments": {}
        },
        {
            "cell_type": "code",
            "source": [
                "SELECT TOP 2 *\n",
                "FROM BooksDB.dbo.to_read;\n",
                "-- user_id, book_id\n",
                "\n",
                "-- book table: can find titles and authors, languages\n",
                "\n",
                ""
            ],
            "metadata": {
                "azdata_cell_guid": "5b2df79c-85c2-48e4-bf05-6ccf3edf7e01"
            },
            "outputs": [
                {
                    "output_type": "display_data",
                    "data": {
                        "text/html": "(2 rows affected)"
                    },
                    "metadata": {}
                },
                {
                    "output_type": "display_data",
                    "data": {
                        "text/html": "Total execution time: 00:00:00.069"
                    },
                    "metadata": {}
                },
                {
                    "output_type": "execute_result",
                    "execution_count": 27,
                    "data": {
                        "application/vnd.dataresource+json": {
                            "schema": {
                                "fields": [
                                    {
                                        "name": "user_id"
                                    },
                                    {
                                        "name": "book_id"
                                    }
                                ]
                            },
                            "data": [
                                {
                                    "0": "1",
                                    "1": "112"
                                },
                                {
                                    "0": "1",
                                    "1": "235"
                                }
                            ]
                        },
                        "text/html": "<table><tr><th>user_id</th><th>book_id</th></tr><tr><td>1</td><td>112</td></tr><tr><td>1</td><td>235</td></tr></table>"
                    },
                    "metadata": {}
                }
            ],
            "execution_count": 27
        },
        {
            "cell_type": "code",
            "source": [
                "SELECT TOP 2 * \n",
                "FROM BooksDB.dbo.books;\n",
                "-- id, book_id, best_book_id, work_id, book_counts, isbn, isbn13, authors, original_publication_year, original_title, title, language_code, average_rating, ratings_count, work_ratings_count, work_text_reviews_count, ratings_1-5, small and large image urls\n",
                "\n",
                ""
            ],
            "metadata": {
                "azdata_cell_guid": "972b279a-5639-44a3-b514-729fb6301108"
            },
            "outputs": [
                {
                    "output_type": "display_data",
                    "data": {
                        "text/html": "(2 rows affected)"
                    },
                    "metadata": {}
                },
                {
                    "output_type": "display_data",
                    "data": {
                        "text/html": "Total execution time: 00:00:00.129"
                    },
                    "metadata": {}
                },
                {
                    "output_type": "execute_result",
                    "execution_count": 28,
                    "data": {
                        "application/vnd.dataresource+json": {
                            "schema": {
                                "fields": [
                                    {
                                        "name": "id"
                                    },
                                    {
                                        "name": "book_id"
                                    },
                                    {
                                        "name": "best_book_id"
                                    },
                                    {
                                        "name": "work_id"
                                    },
                                    {
                                        "name": "books_count"
                                    },
                                    {
                                        "name": "isbn"
                                    },
                                    {
                                        "name": "isbn13"
                                    },
                                    {
                                        "name": "authors"
                                    },
                                    {
                                        "name": "original_publication_year"
                                    },
                                    {
                                        "name": "original_title"
                                    },
                                    {
                                        "name": "title"
                                    },
                                    {
                                        "name": "language_code"
                                    },
                                    {
                                        "name": "average_rating"
                                    },
                                    {
                                        "name": "ratings_count"
                                    },
                                    {
                                        "name": "work_ratings_count"
                                    },
                                    {
                                        "name": "work_text_reviews_count"
                                    },
                                    {
                                        "name": "ratings_1"
                                    },
                                    {
                                        "name": "ratings_2"
                                    },
                                    {
                                        "name": "ratings_3"
                                    },
                                    {
                                        "name": "ratings_4"
                                    },
                                    {
                                        "name": "ratings_5"
                                    },
                                    {
                                        "name": "image_url"
                                    },
                                    {
                                        "name": "small_image_url"
                                    }
                                ]
                            },
                            "data": [
                                {
                                    "0": "1",
                                    "1": "2767052",
                                    "2": "2767052",
                                    "3": "2792775",
                                    "4": "272",
                                    "5": "439023483",
                                    "6": "9780439023480",
                                    "7": "Suzanne Collins",
                                    "8": "2008",
                                    "9": "The Hunger Games",
                                    "10": "The Hunger Games (The Hunger Games, #1)",
                                    "11": "eng",
                                    "12": "4.34",
                                    "13": "4780653",
                                    "14": "4942365",
                                    "15": "155254",
                                    "16": "66715",
                                    "17": "127936",
                                    "18": "560092",
                                    "19": "1481305",
                                    "20": "2706317",
                                    "21": "https://images.gr-assets.com/books/1447303603m/2767052.jpg",
                                    "22": "https://images.gr-assets.com/books/1447303603s/2767052.jpg"
                                },
                                {
                                    "0": "2",
                                    "1": "3",
                                    "2": "3",
                                    "3": "4640799",
                                    "4": "491",
                                    "5": "439554934",
                                    "6": "9780439554930",
                                    "7": "J.K. Rowling, Mary GrandPré",
                                    "8": "1997",
                                    "9": "Harry Potter and the Philosopher's Stone",
                                    "10": "Harry Potter and the Sorcerer's Stone (Harry Potter, #1)",
                                    "11": "eng",
                                    "12": "4.44",
                                    "13": "4602479",
                                    "14": "4800065",
                                    "15": "75867",
                                    "16": "75504",
                                    "17": "101676",
                                    "18": "455024",
                                    "19": "1156318",
                                    "20": "3011543",
                                    "21": "https://images.gr-assets.com/books/1474154022m/3.jpg",
                                    "22": "https://images.gr-assets.com/books/1474154022s/3.jpg"
                                }
                            ]
                        },
                        "text/html": "<table><tr><th>id</th><th>book_id</th><th>best_book_id</th><th>work_id</th><th>books_count</th><th>isbn</th><th>isbn13</th><th>authors</th><th>original_publication_year</th><th>original_title</th><th>title</th><th>language_code</th><th>average_rating</th><th>ratings_count</th><th>work_ratings_count</th><th>work_text_reviews_count</th><th>ratings_1</th><th>ratings_2</th><th>ratings_3</th><th>ratings_4</th><th>ratings_5</th><th>image_url</th><th>small_image_url</th></tr><tr><td>1</td><td>2767052</td><td>2767052</td><td>2792775</td><td>272</td><td>439023483</td><td>9780439023480</td><td>Suzanne Collins</td><td>2008</td><td>The Hunger Games</td><td>The Hunger Games (The Hunger Games, #1)</td><td>eng</td><td>4.34</td><td>4780653</td><td>4942365</td><td>155254</td><td>66715</td><td>127936</td><td>560092</td><td>1481305</td><td>2706317</td><td>https://images.gr-assets.com/books/1447303603m/2767052.jpg</td><td>https://images.gr-assets.com/books/1447303603s/2767052.jpg</td></tr><tr><td>2</td><td>3</td><td>3</td><td>4640799</td><td>491</td><td>439554934</td><td>9780439554930</td><td>J.K. Rowling, Mary GrandPré</td><td>1997</td><td>Harry Potter and the Philosopher's Stone</td><td>Harry Potter and the Sorcerer's Stone (Harry Potter, #1)</td><td>eng</td><td>4.44</td><td>4602479</td><td>4800065</td><td>75867</td><td>75504</td><td>101676</td><td>455024</td><td>1156318</td><td>3011543</td><td>https://images.gr-assets.com/books/1474154022m/3.jpg</td><td>https://images.gr-assets.com/books/1474154022s/3.jpg</td></tr></table>"
                    },
                    "metadata": {}
                }
            ],
            "execution_count": 28
        },
        {
            "cell_type": "code",
            "source": [
                "SELECT TOP 2 *\n",
                "FROM BooksDB.dbo.ratings;\n",
                "-- book_id, user_id, rating\n",
                "\n",
                "-- books table can find titles\n",
                ""
            ],
            "metadata": {
                "azdata_cell_guid": "a87ab014-ca89-46a3-8301-7334db375db1"
            },
            "outputs": [
                {
                    "output_type": "display_data",
                    "data": {
                        "text/html": "(2 rows affected)"
                    },
                    "metadata": {}
                },
                {
                    "output_type": "display_data",
                    "data": {
                        "text/html": "Total execution time: 00:00:00.056"
                    },
                    "metadata": {}
                },
                {
                    "output_type": "execute_result",
                    "execution_count": 29,
                    "data": {
                        "application/vnd.dataresource+json": {
                            "schema": {
                                "fields": [
                                    {
                                        "name": "book_id"
                                    },
                                    {
                                        "name": "user_id"
                                    },
                                    {
                                        "name": "rating"
                                    }
                                ]
                            },
                            "data": [
                                {
                                    "0": "59",
                                    "1": "35146",
                                    "2": "4"
                                },
                                {
                                    "0": "59",
                                    "1": "36099",
                                    "2": "5"
                                }
                            ]
                        },
                        "text/html": "<table><tr><th>book_id</th><th>user_id</th><th>rating</th></tr><tr><td>59</td><td>35146</td><td>4</td></tr><tr><td>59</td><td>36099</td><td>5</td></tr></table>"
                    },
                    "metadata": {}
                }
            ],
            "execution_count": 29
        },
        {
            "cell_type": "code",
            "source": [
                "SELECT TOP 2 * \n",
                "FROM BooksDB.dbo.book_tags;\n",
                "-- goodreads_book_id, tag_id, count\n",
                "\n",
                "-- What Book has the most popular tag id?\n",
                "SELECT TOP 1 b.title, bt.count, bt.tag_id\n",
                "FROM BooksDB.dbo.books AS b\n",
                "INNER JOIN BooksDB.dbo.book_tags AS bt\n",
                "ON bt.goodreads_book_id = b.best_book_id\n",
                "ORDER BY bt.count DESC;\n",
                "\n",
                "-- How many tags for the Alchemist?\n",
                "-- ANS: 100\n",
                "\n",
                "SELECT TOP 2 b.title, bt.[count], bt.tag_id\n",
                "FROM BooksDB.dbo.books AS b\n",
                "INNER JOIN BooksDB.dbo.book_tags AS bt\n",
                "ON bt.goodreads_book_id = b.best_book_id\n",
                "WHERE b.title = 'The Alchemist'\n",
                "ORDER BY bt.[count] DESC;"
            ],
            "metadata": {
                "azdata_cell_guid": "de3ac253-6b47-4740-8c6e-5f9d1b0ce36b"
            },
            "outputs": [
                {
                    "output_type": "display_data",
                    "data": {
                        "text/html": "(2 rows affected)"
                    },
                    "metadata": {}
                },
                {
                    "output_type": "display_data",
                    "data": {
                        "text/html": "(1 row affected)"
                    },
                    "metadata": {}
                },
                {
                    "output_type": "display_data",
                    "data": {
                        "text/html": "(2 rows affected)"
                    },
                    "metadata": {}
                },
                {
                    "output_type": "display_data",
                    "data": {
                        "text/html": "Total execution time: 00:00:00.784"
                    },
                    "metadata": {}
                },
                {
                    "output_type": "execute_result",
                    "metadata": {},
                    "execution_count": 48,
                    "data": {
                        "application/vnd.dataresource+json": {
                            "schema": {
                                "fields": [
                                    {
                                        "name": "goodreads_book_id"
                                    },
                                    {
                                        "name": "tag_id"
                                    },
                                    {
                                        "name": "count"
                                    }
                                ]
                            },
                            "data": [
                                {
                                    "0": "1",
                                    "1": "30574",
                                    "2": "167697"
                                },
                                {
                                    "0": "1",
                                    "1": "11305",
                                    "2": "37174"
                                }
                            ]
                        },
                        "text/html": [
                            "<table>",
                            "<tr><th>goodreads_book_id</th><th>tag_id</th><th>count</th></tr>",
                            "<tr><td>1</td><td>30574</td><td>167697</td></tr>",
                            "<tr><td>1</td><td>11305</td><td>37174</td></tr>",
                            "</table>"
                        ]
                    }
                },
                {
                    "output_type": "execute_result",
                    "metadata": {},
                    "execution_count": 48,
                    "data": {
                        "application/vnd.dataresource+json": {
                            "schema": {
                                "fields": [
                                    {
                                        "name": "title"
                                    },
                                    {
                                        "name": "count"
                                    },
                                    {
                                        "name": "tag_id"
                                    }
                                ]
                            },
                            "data": [
                                {
                                    "0": "The Alchemist",
                                    "1": "596234",
                                    "2": "30574"
                                }
                            ]
                        },
                        "text/html": [
                            "<table>",
                            "<tr><th>title</th><th>count</th><th>tag_id</th></tr>",
                            "<tr><td>The Alchemist</td><td>596234</td><td>30574</td></tr>",
                            "</table>"
                        ]
                    }
                },
                {
                    "output_type": "execute_result",
                    "metadata": {},
                    "execution_count": 48,
                    "data": {
                        "application/vnd.dataresource+json": {
                            "schema": {
                                "fields": [
                                    {
                                        "name": "title"
                                    },
                                    {
                                        "name": "count"
                                    },
                                    {
                                        "name": "tag_id"
                                    }
                                ]
                            },
                            "data": [
                                {
                                    "0": "The Alchemist",
                                    "1": "596234",
                                    "2": "30574"
                                },
                                {
                                    "0": "The Alchemist",
                                    "1": "26269",
                                    "2": "8717"
                                }
                            ]
                        },
                        "text/html": [
                            "<table>",
                            "<tr><th>title</th><th>count</th><th>tag_id</th></tr>",
                            "<tr><td>The Alchemist</td><td>596234</td><td>30574</td></tr>",
                            "<tr><td>The Alchemist</td><td>26269</td><td>8717</td></tr>",
                            "</table>"
                        ]
                    }
                }
            ],
            "execution_count": 48
        },
        {
            "cell_type": "code",
            "source": [
                "SELECT TOP 2 * \n",
                "FROM BooksDB.dbo.tags;\n",
                "-- tag_id, tag_name\n",
                "\n",
                "-- what is the most popular tag for the Alchemist?\n",
                "-- ANS: to-read (seriously?!?)\n",
                "SELECT tag_name\n",
                "FROM BooksDB.dbo.tags\n",
                "WHERE tag_id = 30574;\n",
                "\n",
                "-- have students search for a tag and find the title using their tag (if more than one, pick favorite tag option)\n",
                "-- tag suggestions:\n",
                "    -- %baking% 22 tags\n",
                "    -- %coding%% 1 tag\n",
                "    -- %giraffes%% 2 tags\n",
                "    -- %halloween% 8 tags\n",
                "    -- %fiction% 826 tags\n",
                "    -- %nonfiction% 103 tags\n",
                "    -- %philosophy% 94 tags\n",
                "\n",
                "SELECT * \n",
                "FROM BooksDB.dbo.tags\n",
                "WHERE tag_name LIKE '%halloween%' \n",
                "-- i like the 'halloween-storytime' tag: 13877\n",
                "\n",
                "SELECT b.title, bt.[count], bt.tag_id\n",
                "FROM BooksDB.dbo.books AS b\n",
                "INNER JOIN BooksDB.dbo.book_tags AS bt\n",
                "ON bt.goodreads_book_id = b.best_book_id\n",
                "-- WHERE bt.tag_id = 13877; --(halloween-storytime)\n",
                "-- The Little Old Lady Who Was Not Afraid of Anything\n",
                "WHERE bt.tag_id = 13873 --(halloween)\n",
                "ORDER BY bt.[count] DESC;\n",
                "-- The Little Old Lady Who Was Not Afraid of Anything (63 tags)"
            ],
            "metadata": {
                "azdata_cell_guid": "c4b0b67c-7cfa-4f52-be97-ffe5cc28ed54",
                "tags": []
            },
            "outputs": [
                {
                    "output_type": "display_data",
                    "data": {
                        "text/html": "(2 rows affected)"
                    },
                    "metadata": {}
                },
                {
                    "output_type": "display_data",
                    "data": {
                        "text/html": "(1 row affected)"
                    },
                    "metadata": {}
                },
                {
                    "output_type": "display_data",
                    "data": {
                        "text/html": "(8 rows affected)"
                    },
                    "metadata": {}
                },
                {
                    "output_type": "display_data",
                    "data": {
                        "text/html": "(62 rows affected)"
                    },
                    "metadata": {}
                },
                {
                    "output_type": "display_data",
                    "data": {
                        "text/html": "Total execution time: 00:00:00.353"
                    },
                    "metadata": {}
                },
                {
                    "output_type": "execute_result",
                    "metadata": {},
                    "execution_count": 47,
                    "data": {
                        "application/vnd.dataresource+json": {
                            "schema": {
                                "fields": [
                                    {
                                        "name": "tag_id"
                                    },
                                    {
                                        "name": "tag_name"
                                    }
                                ]
                            },
                            "data": [
                                {
                                    "0": "0",
                                    "1": "-"
                                },
                                {
                                    "0": "1",
                                    "1": "--1-"
                                }
                            ]
                        },
                        "text/html": [
                            "<table>",
                            "<tr><th>tag_id</th><th>tag_name</th></tr>",
                            "<tr><td>0</td><td>-</td></tr>",
                            "<tr><td>1</td><td>--1-</td></tr>",
                            "</table>"
                        ]
                    }
                },
                {
                    "output_type": "execute_result",
                    "metadata": {},
                    "execution_count": 47,
                    "data": {
                        "application/vnd.dataresource+json": {
                            "schema": {
                                "fields": [
                                    {
                                        "name": "tag_name"
                                    }
                                ]
                            },
                            "data": [
                                {
                                    "0": "to-read"
                                }
                            ]
                        },
                        "text/html": [
                            "<table>",
                            "<tr><th>tag_name</th></tr>",
                            "<tr><td>to-read</td></tr>",
                            "</table>"
                        ]
                    }
                },
                {
                    "output_type": "execute_result",
                    "metadata": {},
                    "execution_count": 47,
                    "data": {
                        "application/vnd.dataresource+json": {
                            "schema": {
                                "fields": [
                                    {
                                        "name": "tag_id"
                                    },
                                    {
                                        "name": "tag_name"
                                    }
                                ]
                            },
                            "data": [
                                {
                                    "0": "13873",
                                    "1": "halloween"
                                },
                                {
                                    "0": "13874",
                                    "1": "halloween-books"
                                },
                                {
                                    "0": "13875",
                                    "1": "halloween-reading"
                                },
                                {
                                    "0": "13876",
                                    "1": "halloween-reads"
                                },
                                {
                                    "0": "13877",
                                    "1": "halloween-storytime"
                                },
                                {
                                    "0": "14698",
                                    "1": "holiday-halloween"
                                },
                                {
                                    "0": "14706",
                                    "1": "holidays-halloween"
                                },
                                {
                                    "0": "28416",
                                    "1": "spooky-reads-for-halloween"
                                }
                            ]
                        },
                        "text/html": [
                            "<table>",
                            "<tr><th>tag_id</th><th>tag_name</th></tr>",
                            "<tr><td>13873</td><td>halloween</td></tr>",
                            "<tr><td>13874</td><td>halloween-books</td></tr>",
                            "<tr><td>13875</td><td>halloween-reading</td></tr>",
                            "<tr><td>13876</td><td>halloween-reads</td></tr>",
                            "<tr><td>13877</td><td>halloween-storytime</td></tr>",
                            "<tr><td>14698</td><td>holiday-halloween</td></tr>",
                            "<tr><td>14706</td><td>holidays-halloween</td></tr>",
                            "<tr><td>28416</td><td>spooky-reads-for-halloween</td></tr>",
                            "</table>"
                        ]
                    }
                },
                {
                    "output_type": "execute_result",
                    "metadata": {},
                    "execution_count": 47,
                    "data": {
                        "application/vnd.dataresource+json": {
                            "schema": {
                                "fields": [
                                    {
                                        "name": "title"
                                    },
                                    {
                                        "name": "count"
                                    },
                                    {
                                        "name": "tag_id"
                                    }
                                ]
                            },
                            "data": [
                                {
                                    "0": "The Little Old Lady Who Was Not Afraid of Anything",
                                    "1": "138",
                                    "2": "13873"
                                },
                                {
                                    "0": "Something Wicked This Way Comes (Green Town, #2)",
                                    "1": "87",
                                    "2": "13873"
                                },
                                {
                                    "0": "Clifford's Halloween",
                                    "1": "71",
                                    "2": "13873"
                                },
                                {
                                    "0": "The Legend of Sleepy Hollow",
                                    "1": "66",
                                    "2": "13873"
                                },
                                {
                                    "0": "Coraline",
                                    "1": "65",
                                    "2": "13873"
                                },
                                {
                                    "0": "The Haunting of Hill House",
                                    "1": "63",
                                    "2": "13873"
                                },
                                {
                                    "0": "Go Away, Big Green Monster!",
                                    "1": "56",
                                    "2": "13873"
                                },
                                {
                                    "0": "Hallowe'en Party (Hercule Poirot, #36)",
                                    "1": "53",
                                    "2": "13873"
                                },
                                {
                                    "0": "We Have Always Lived in the Castle",
                                    "1": "45",
                                    "2": "13873"
                                },
                                {
                                    "0": "Scary Stories to Tell in the Dark (Scary Stories, #1)",
                                    "1": "40",
                                    "2": "13873"
                                },
                                {
                                    "0": "'Salem's Lot",
                                    "1": "27",
                                    "2": "13873"
                                },
                                {
                                    "0": "The Woman in Black",
                                    "1": "27",
                                    "2": "13873"
                                },
                                {
                                    "0": "Bunnicula (Bunnicula, #1)",
                                    "1": "26",
                                    "2": "13873"
                                },
                                {
                                    "0": "Hell House",
                                    "1": "25",
                                    "2": "13873"
                                },
                                {
                                    "0": "The Complete Stories and Poems",
                                    "1": "22",
                                    "2": "13873"
                                },
                                {
                                    "0": "The Exorcist",
                                    "1": "20",
                                    "2": "13873"
                                },
                                {
                                    "0": "Through the Woods",
                                    "1": "19",
                                    "2": "13873"
                                },
                                {
                                    "0": "Doll Bones",
                                    "1": "19",
                                    "2": "13873"
                                },
                                {
                                    "0": "The Monstrumologist (The Monstrumologist, #1)",
                                    "1": "18",
                                    "2": "13873"
                                },
                                {
                                    "0": "Ghost Story",
                                    "1": "18",
                                    "2": "13873"
                                },
                                {
                                    "0": "Heart-Shaped Box",
                                    "1": "17",
                                    "2": "13873"
                                },
                                {
                                    "0": "The Legend of Sleepy Hollow (Graphic Novel)",
                                    "1": "16",
                                    "2": "13873"
                                },
                                {
                                    "0": "Bird Box",
                                    "1": "16",
                                    "2": "13873"
                                },
                                {
                                    "0": "Carmilla",
                                    "1": "16",
                                    "2": "13873"
                                },
                                {
                                    "0": "The Replacement",
                                    "1": "16",
                                    "2": "13873"
                                },
                                {
                                    "0": "Asylum (Asylum, #1)",
                                    "1": "15",
                                    "2": "13873"
                                },
                                {
                                    "0": "A Head Full of Ghosts",
                                    "1": "14",
                                    "2": "13873"
                                },
                                {
                                    "0": "Wait Till Helen Comes",
                                    "1": "13",
                                    "2": "13873"
                                },
                                {
                                    "0": "Practical Magic",
                                    "1": "13",
                                    "2": "13873"
                                },
                                {
                                    "0": "Rosemary's Baby",
                                    "1": "13",
                                    "2": "13873"
                                },
                                {
                                    "0": "The Island of Dr. Moreau",
                                    "1": "13",
                                    "2": "13873"
                                },
                                {
                                    "0": "Batman: The Long Halloween",
                                    "1": "13",
                                    "2": "13873"
                                },
                                {
                                    "0": "The Legend of Sleepy Hollow and Other Stories",
                                    "1": "12",
                                    "2": "13873"
                                },
                                {
                                    "0": "The Amityville Horror",
                                    "1": "11",
                                    "2": "13873"
                                },
                                {
                                    "0": "Stellaluna",
                                    "1": "10",
                                    "2": "13873"
                                },
                                {
                                    "0": "The Haunted Mask (Goosebumps, #11)",
                                    "1": "10",
                                    "2": "13873"
                                },
                                {
                                    "0": "Horrorstör",
                                    "1": "10",
                                    "2": "13873"
                                },
                                {
                                    "0": "There's a Nightmare in My Closet",
                                    "1": "9",
                                    "2": "13873"
                                },
                                {
                                    "0": "Psycho",
                                    "1": "9",
                                    "2": "13873"
                                },
                                {
                                    "0": "The Best of H.P. Lovecraft: Bloodcurdling Tales of Horror and the Macabre",
                                    "1": "9",
                                    "2": "13873"
                                },
                                {
                                    "0": "The Call of Cthulhu and Other Weird Stories",
                                    "1": "6",
                                    "2": "13873"
                                },
                                {
                                    "0": "The Gashlycrumb Tinies (The Vinegar Works, #1)",
                                    "1": "6",
                                    "2": "13873"
                                },
                                {
                                    "0": "The Worst Witch (Worst Witch, #1)",
                                    "1": "6",
                                    "2": "13873"
                                },
                                {
                                    "0": "The King in Yellow and Other Horror Stories",
                                    "1": "6",
                                    "2": "13873"
                                },
                                {
                                    "0": "Carrion Comfort",
                                    "1": "5",
                                    "2": "13873"
                                },
                                {
                                    "0": "Summer of Night",
                                    "1": "5",
                                    "2": "13873"
                                },
                                {
                                    "0": "Night of the Living Dummy (Goosebumps, #7)",
                                    "1": "5",
                                    "2": "13873"
                                },
                                {
                                    "0": "Books of Blood: Volumes One to Three (Books of Blood #1-3)",
                                    "1": "5",
                                    "2": "13873"
                                },
                                {
                                    "0": "Tales from a Not-So-Popular Party Girl (Dork Diaries, #2)",
                                    "1": "5",
                                    "2": "13873"
                                },
                                {
                                    "0": "The Hellbound Heart",
                                    "1": "5",
                                    "2": "13873"
                                },
                                {
                                    "0": "Necroscope (Necroscope, #1)",
                                    "1": "4",
                                    "2": "13873"
                                },
                                {
                                    "0": "Lost Souls",
                                    "1": "4",
                                    "2": "13873"
                                },
                                {
                                    "0": "Stay Out of the Basement  (Goosebumps, #2)",
                                    "1": "4",
                                    "2": "13873"
                                },
                                {
                                    "0": "Catering to Nobody (A Goldy Bear Culinary Mystery, #1)",
                                    "1": "3",
                                    "2": "13873"
                                },
                                {
                                    "0": "Books of Blood: Volume One (Books of Blood #1)",
                                    "1": "3",
                                    "2": "13873"
                                },
                                {
                                    "0": "The Other",
                                    "1": "3",
                                    "2": "13873"
                                },
                                {
                                    "0": "The Bad Seed",
                                    "1": "3",
                                    "2": "13873"
                                },
                                {
                                    "0": "Skippyjon Jones in Mummy Trouble (Skippyjon Jones, #3)",
                                    "1": "3",
                                    "2": "13873"
                                },
                                {
                                    "0": "The Raven and other poems",
                                    "1": "3",
                                    "2": "13873"
                                },
                                {
                                    "0": "The Monkey's Paw (Oxford Bookworms)",
                                    "1": "2",
                                    "2": "13873"
                                },
                                {
                                    "0": "Audrey Rose",
                                    "1": "2",
                                    "2": "13873"
                                },
                                {
                                    "0": "Diane Arbus: Monograph",
                                    "1": "1",
                                    "2": "13873"
                                }
                            ]
                        },
                        "text/html": [
                            "<table>",
                            "<tr><th>title</th><th>count</th><th>tag_id</th></tr>",
                            "<tr><td>The Little Old Lady Who Was Not Afraid of Anything</td><td>138</td><td>13873</td></tr>",
                            "<tr><td>Something Wicked This Way Comes (Green Town, #2)</td><td>87</td><td>13873</td></tr>",
                            "<tr><td>Clifford's Halloween</td><td>71</td><td>13873</td></tr>",
                            "<tr><td>The Legend of Sleepy Hollow</td><td>66</td><td>13873</td></tr>",
                            "<tr><td>Coraline</td><td>65</td><td>13873</td></tr>",
                            "<tr><td>The Haunting of Hill House</td><td>63</td><td>13873</td></tr>",
                            "<tr><td>Go Away, Big Green Monster!</td><td>56</td><td>13873</td></tr>",
                            "<tr><td>Hallowe'en Party (Hercule Poirot, #36)</td><td>53</td><td>13873</td></tr>",
                            "<tr><td>We Have Always Lived in the Castle</td><td>45</td><td>13873</td></tr>",
                            "<tr><td>Scary Stories to Tell in the Dark (Scary Stories, #1)</td><td>40</td><td>13873</td></tr>",
                            "<tr><td>'Salem's Lot</td><td>27</td><td>13873</td></tr>",
                            "<tr><td>The Woman in Black</td><td>27</td><td>13873</td></tr>",
                            "<tr><td>Bunnicula (Bunnicula, #1)</td><td>26</td><td>13873</td></tr>",
                            "<tr><td>Hell House</td><td>25</td><td>13873</td></tr>",
                            "<tr><td>The Complete Stories and Poems</td><td>22</td><td>13873</td></tr>",
                            "<tr><td>The Exorcist</td><td>20</td><td>13873</td></tr>",
                            "<tr><td>Through the Woods</td><td>19</td><td>13873</td></tr>",
                            "<tr><td>Doll Bones</td><td>19</td><td>13873</td></tr>",
                            "<tr><td>The Monstrumologist (The Monstrumologist, #1)</td><td>18</td><td>13873</td></tr>",
                            "<tr><td>Ghost Story</td><td>18</td><td>13873</td></tr>",
                            "<tr><td>Heart-Shaped Box</td><td>17</td><td>13873</td></tr>",
                            "<tr><td>The Legend of Sleepy Hollow (Graphic Novel)</td><td>16</td><td>13873</td></tr>",
                            "<tr><td>Bird Box</td><td>16</td><td>13873</td></tr>",
                            "<tr><td>Carmilla</td><td>16</td><td>13873</td></tr>",
                            "<tr><td>The Replacement</td><td>16</td><td>13873</td></tr>",
                            "<tr><td>Asylum (Asylum, #1)</td><td>15</td><td>13873</td></tr>",
                            "<tr><td>A Head Full of Ghosts</td><td>14</td><td>13873</td></tr>",
                            "<tr><td>Wait Till Helen Comes</td><td>13</td><td>13873</td></tr>",
                            "<tr><td>Practical Magic</td><td>13</td><td>13873</td></tr>",
                            "<tr><td>Rosemary's Baby</td><td>13</td><td>13873</td></tr>",
                            "<tr><td>The Island of Dr. Moreau</td><td>13</td><td>13873</td></tr>",
                            "<tr><td>Batman: The Long Halloween</td><td>13</td><td>13873</td></tr>",
                            "<tr><td>The Legend of Sleepy Hollow and Other Stories</td><td>12</td><td>13873</td></tr>",
                            "<tr><td>The Amityville Horror</td><td>11</td><td>13873</td></tr>",
                            "<tr><td>Stellaluna</td><td>10</td><td>13873</td></tr>",
                            "<tr><td>The Haunted Mask (Goosebumps, #11)</td><td>10</td><td>13873</td></tr>",
                            "<tr><td>Horrorstör</td><td>10</td><td>13873</td></tr>",
                            "<tr><td>There's a Nightmare in My Closet</td><td>9</td><td>13873</td></tr>",
                            "<tr><td>Psycho</td><td>9</td><td>13873</td></tr>",
                            "<tr><td>The Best of H.P. Lovecraft: Bloodcurdling Tales of Horror and the Macabre</td><td>9</td><td>13873</td></tr>",
                            "<tr><td>The Call of Cthulhu and Other Weird Stories</td><td>6</td><td>13873</td></tr>",
                            "<tr><td>The Gashlycrumb Tinies (The Vinegar Works, #1)</td><td>6</td><td>13873</td></tr>",
                            "<tr><td>The Worst Witch (Worst Witch, #1)</td><td>6</td><td>13873</td></tr>",
                            "<tr><td>The King in Yellow and Other Horror Stories</td><td>6</td><td>13873</td></tr>",
                            "<tr><td>Carrion Comfort</td><td>5</td><td>13873</td></tr>",
                            "<tr><td>Summer of Night</td><td>5</td><td>13873</td></tr>",
                            "<tr><td>Night of the Living Dummy (Goosebumps, #7)</td><td>5</td><td>13873</td></tr>",
                            "<tr><td>Books of Blood: Volumes One to Three (Books of Blood #1-3)</td><td>5</td><td>13873</td></tr>",
                            "<tr><td>Tales from a Not-So-Popular Party Girl (Dork Diaries, #2)</td><td>5</td><td>13873</td></tr>",
                            "<tr><td>The Hellbound Heart</td><td>5</td><td>13873</td></tr>",
                            "<tr><td>Necroscope (Necroscope, #1)</td><td>4</td><td>13873</td></tr>",
                            "<tr><td>Lost Souls</td><td>4</td><td>13873</td></tr>",
                            "<tr><td>Stay Out of the Basement  (Goosebumps, #2)</td><td>4</td><td>13873</td></tr>",
                            "<tr><td>Catering to Nobody (A Goldy Bear Culinary Mystery, #1)</td><td>3</td><td>13873</td></tr>",
                            "<tr><td>Books of Blood: Volume One (Books of Blood #1)</td><td>3</td><td>13873</td></tr>",
                            "<tr><td>The Other</td><td>3</td><td>13873</td></tr>",
                            "<tr><td>The Bad Seed</td><td>3</td><td>13873</td></tr>",
                            "<tr><td>Skippyjon Jones in Mummy Trouble (Skippyjon Jones, #3)</td><td>3</td><td>13873</td></tr>",
                            "<tr><td>The Raven and other poems</td><td>3</td><td>13873</td></tr>",
                            "<tr><td>The Monkey's Paw (Oxford Bookworms)</td><td>2</td><td>13873</td></tr>",
                            "<tr><td>Audrey Rose</td><td>2</td><td>13873</td></tr>",
                            "<tr><td>Diane Arbus: Monograph</td><td>1</td><td>13873</td></tr>",
                            "</table>"
                        ]
                    }
                }
            ],
            "execution_count": 47
        },
        {
            "cell_type": "code",
            "source": [
                "-- joining the to read table with the book table \n",
                "-- currently looking at how many users want read what title\n",
                "SELECT TOP 5 b.title, tr.user_id\n",
                "FROM BooksDB.dbo.books AS b\n",
                "INNER JOIN BooksDB.dbo.to_read AS tr\n",
                "ON b.book_id = tr.book_id;\n",
                "\n",
                "-- WHAT ARE THE TOP TEN MOST POPULAR BOOK TITLE ON THE TO READ LIST?  \n",
                "SELECT TOP 10 COUNT(tr.user_id) AS NumToRead, b.title\n",
                "FROM BooksDB.dbo.books AS b\n",
                "INNER JOIN BooksDB.dbo.to_read AS tr\n",
                "ON b.book_id = tr.book_id\n",
                "GROUP BY b.title \n",
                "ORDER BY NumToRead DESC;"
            ],
            "metadata": {
                "azdata_cell_guid": "c6c815f8-890d-4163-be63-3d300e320597"
            },
            "outputs": [
                {
                    "output_type": "display_data",
                    "data": {
                        "text/html": "(5 rows affected)"
                    },
                    "metadata": {}
                },
                {
                    "output_type": "display_data",
                    "data": {
                        "text/html": "(10 rows affected)"
                    },
                    "metadata": {}
                },
                {
                    "output_type": "display_data",
                    "data": {
                        "text/html": "Total execution time: 00:00:04.720"
                    },
                    "metadata": {}
                },
                {
                    "output_type": "execute_result",
                    "execution_count": 32,
                    "data": {
                        "application/vnd.dataresource+json": {
                            "schema": {
                                "fields": [
                                    {
                                        "name": "title"
                                    },
                                    {
                                        "name": "user_id"
                                    }
                                ]
                            },
                            "data": [
                                {
                                    "0": "Harry Potter and the Sorcerer's Stone (Harry Potter, #1)",
                                    "1": "61"
                                },
                                {
                                    "0": "Harry Potter and the Sorcerer's Stone (Harry Potter, #1)",
                                    "1": "590"
                                },
                                {
                                    "0": "Harry Potter and the Sorcerer's Stone (Harry Potter, #1)",
                                    "1": "632"
                                },
                                {
                                    "0": "Harry Potter and the Sorcerer's Stone (Harry Potter, #1)",
                                    "1": "892"
                                },
                                {
                                    "0": "Harry Potter and the Sorcerer's Stone (Harry Potter, #1)",
                                    "1": "1400"
                                }
                            ]
                        },
                        "text/html": "<table><tr><th>title</th><th>user_id</th></tr><tr><td>Harry Potter and the Sorcerer's Stone (Harry Potter, #1)</td><td>61</td></tr><tr><td>Harry Potter and the Sorcerer's Stone (Harry Potter, #1)</td><td>590</td></tr><tr><td>Harry Potter and the Sorcerer's Stone (Harry Potter, #1)</td><td>632</td></tr><tr><td>Harry Potter and the Sorcerer's Stone (Harry Potter, #1)</td><td>892</td></tr><tr><td>Harry Potter and the Sorcerer's Stone (Harry Potter, #1)</td><td>1400</td></tr></table>"
                    },
                    "metadata": {}
                },
                {
                    "output_type": "execute_result",
                    "execution_count": 32,
                    "data": {
                        "application/vnd.dataresource+json": {
                            "schema": {
                                "fields": [
                                    {
                                        "name": "NumToRead"
                                    },
                                    {
                                        "name": "title"
                                    }
                                ]
                            },
                            "data": [
                                {
                                    "0": "1812",
                                    "1": "The Ultimate Hitchhiker's Guide to the Galaxy"
                                },
                                {
                                    "0": "1767",
                                    "1": "The Hitchhiker's Guide to the Galaxy (Hitchhiker's Guide to the Galaxy, #1)"
                                },
                                {
                                    "0": "1499",
                                    "1": "The Lord of the Rings: The Art of The Fellowship of the Ring"
                                },
                                {
                                    "0": "1498",
                                    "1": "Harry Potter Boxed Set, Books 1-5 (Harry Potter, #1-5)"
                                },
                                {
                                    "0": "1484",
                                    "1": "Harry Potter and the Goblet of Fire (Harry Potter, #4)"
                                },
                                {
                                    "0": "1352",
                                    "1": "The Known World"
                                },
                                {
                                    "0": "1293",
                                    "1": "Harry Potter and the Prisoner of Azkaban (Harry Potter, #3)"
                                },
                                {
                                    "0": "1211",
                                    "1": "The Lord of the Rings: Weapons and Warfare"
                                },
                                {
                                    "0": "1148",
                                    "1": "Notes from a Small Island"
                                },
                                {
                                    "0": "1110",
                                    "1": "Harry Potter Collection (Harry Potter, #1-6)"
                                }
                            ]
                        },
                        "text/html": "<table><tr><th>NumToRead</th><th>title</th></tr><tr><td>1812</td><td>The Ultimate Hitchhiker's Guide to the Galaxy</td></tr><tr><td>1767</td><td>The Hitchhiker's Guide to the Galaxy (Hitchhiker's Guide to the Galaxy, #1)</td></tr><tr><td>1499</td><td>The Lord of the Rings: The Art of The Fellowship of the Ring</td></tr><tr><td>1498</td><td>Harry Potter Boxed Set, Books 1-5 (Harry Potter, #1-5)</td></tr><tr><td>1484</td><td>Harry Potter and the Goblet of Fire (Harry Potter, #4)</td></tr><tr><td>1352</td><td>The Known World</td></tr><tr><td>1293</td><td>Harry Potter and the Prisoner of Azkaban (Harry Potter, #3)</td></tr><tr><td>1211</td><td>The Lord of the Rings: Weapons and Warfare</td></tr><tr><td>1148</td><td>Notes from a Small Island</td></tr><tr><td>1110</td><td>Harry Potter Collection (Harry Potter, #1-6)</td></tr></table>"
                    },
                    "metadata": {}
                }
            ],
            "execution_count": 32
        }
    ]
}